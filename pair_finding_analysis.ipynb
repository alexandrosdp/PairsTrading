{
 "cells": [
  {
   "cell_type": "code",
   "execution_count": null,
   "metadata": {},
   "outputs": [
    {
     "name": "stderr",
     "output_type": "stream",
     "text": [
      "/Users/alex_1/anaconda3/lib/python3.11/site-packages/pandas/core/arrays/masked.py:60: UserWarning: Pandas requires version '1.3.6' or newer of 'bottleneck' (version '1.3.5' currently installed).\n",
      "  from pandas.core import (\n"
     ]
    }
   ],
   "source": [
    "from data_pre_processing import *\n",
    "from pair_finder import *\n",
    "from back_tester import *\n",
    "import itertools\n",
    "import pandas as pd\n",
    "from statsmodels.tsa.stattools import coint\n",
    "from itertools import combinations\n",
    "\n"
   ]
  },
  {
   "cell_type": "markdown",
   "metadata": {},
   "source": [
    "# Load data \n",
    "---"
   ]
  },
  {
   "cell_type": "code",
   "execution_count": 2,
   "metadata": {},
   "outputs": [],
   "source": [
    "# prices_XRP = pd.read_csv('binance_data/top_100_tickers/2024/1m/XRPUSDT_2024_1m.csv', index_col=0, parse_dates=True)"
   ]
  },
  {
   "cell_type": "code",
   "execution_count": 3,
   "metadata": {},
   "outputs": [],
   "source": [
    "# #Check if there are any cases where the close price does not change\n",
    "# prices_XRP_dff = prices_XRP['Close'].diff()"
   ]
  },
  {
   "cell_type": "markdown",
   "metadata": {},
   "source": [
    "### Resampling"
   ]
  },
  {
   "cell_type": "code",
   "execution_count": 4,
   "metadata": {},
   "outputs": [],
   "source": [
    "# resample_data('binance_data/Wrapped BTC/2024/1m', '30T', 'binance_data/Wrapped BTC/2024/30m2')"
   ]
  },
  {
   "cell_type": "markdown",
   "metadata": {},
   "source": [
    "### Merge CSVS"
   ]
  },
  {
   "cell_type": "code",
   "execution_count": 5,
   "metadata": {},
   "outputs": [],
   "source": [
    "# merge_ohlc_closing_prices(\"binance_data/top_100_tickers/2024/1m\")"
   ]
  },
  {
   "cell_type": "code",
   "execution_count": 6,
   "metadata": {},
   "outputs": [],
   "source": [
    "# #Manual adjustments\n",
    "# import pandas as pd\n",
    "\n",
    "# # Load dataset (replace with actual file path if loading from a CSV file)\n",
    "# df = pd.read_csv(\"binance_data/Staked_ETH_Bybit/BYBIT_ETHUSDT, 30_1dfe3.csv\")  # Replace with actual file path if needed\n",
    "\n",
    "# # Convert 'time' column to datetime format and rename it\n",
    "# df['Open Time'] = pd.to_datetime(df['time'], unit='s')\n",
    "\n",
    "# # Drop the old 'time' column if needed\n",
    "# df = df.drop(columns=['time'])\n",
    "\n",
    "# #Rename close to Close\n",
    "# df = df.rename(columns={'close': 'Close'})\n",
    "\n",
    "# # Reorder columns to make 'Open Time' the first column\n",
    "# column_order = ['Open Time'] + [col for col in df.columns if col != 'Open Time']\n",
    "# df = df[column_order]\n",
    "\n",
    "# cutoff_time = pd.Timestamp(\"2024-12-31 23:30:00\")\n",
    "\n",
    "# # Filter the dataframe to only include rows up to the cutoff time\n",
    "# df = df[df['Open Time'] <= cutoff_time]\n",
    "\n",
    "\n",
    "# df.to_csv(\"binance_data/Staked_ETH_Bybit/BYBIT_ETHUSDT, 30_1dfe3.csv\", index=False)\n"
   ]
  },
  {
   "cell_type": "code",
   "execution_count": 7,
   "metadata": {},
   "outputs": [],
   "source": [
    "# df = pd.read_csv(\"binance_data/Staked_ETH_Bybit/BYBIT_STETHUSDT, 30_fd7e3.csv\")  # Replace with actual file path if needed\n",
    "# df"
   ]
  },
  {
   "cell_type": "markdown",
   "metadata": {},
   "source": [
    "* ## Closing price data\n",
    "---"
   ]
  },
  {
   "cell_type": "code",
   "execution_count": 8,
   "metadata": {},
   "outputs": [],
   "source": [
    "\n",
    "#BTC and WBTC\n",
    "#-------------------------------------------\n",
    "#prices = pd.read_csv(\"binance_data/Wrapped BTC/2024/30m/merged_closing_prices.csv\", index_col=0, parse_dates=True)\n",
    "\n",
    "\n",
    "# #SOL and BNSOL\n",
    "# #-------------------------------------------\n",
    "# prices = pd.read_csv('binance_data/SOL_and_BNSOL/2025/1H/merged_closing_prices.csv', index_col=0, parse_dates=True)\n",
    "\n",
    "# #ETH and RPL\n",
    "# #-------------------------------------------\n",
    "#prices = pd.read_csv('binance_data/ETH_and_RPL/2024/1m/merged_closing_prices.csv', index_col=0, parse_dates=True)\n",
    "\n",
    "# #ETH and WBETH\n",
    "# #-------------------------------------------\n",
    "#prices = pd.read_csv('binance_data/ETH_and_WBETH/2024/1m/merged_closing_prices.csv', index_col=0, parse_dates=True)\n",
    "\n",
    "#Top 100\n",
    "#prices = pd.read_csv('binance_data/top_100_tickers/2024/1m/merged_closing_prices.csv', index_col=0, parse_dates=True)\n",
    "\n",
    "#Tardis 5min trades data for 60 coins\n",
    "prices = pd.read_csv('tardis_data/final_in_sample_dataset/final_in_sample_dataset_5min_2024.csv', index_col=0, parse_dates=True)"
   ]
  },
  {
   "cell_type": "code",
   "execution_count": 9,
   "metadata": {},
   "outputs": [],
   "source": [
    "# #Filter prices for XRP and ADA\n",
    "#prices = prices[['XRP/USDT_2024_1m', 'ADA/USDT_2024_1m']]\n",
    "#prices = prices[['ADA/USDT_2024_1m', 'XRP/USDT_2024_1m']]\n",
    "\n",
    "# #Filter by DOT and XTZ\n",
    "# prices = prices[['DOT/USDT_2024_1m', 'XTZ/USDT_2024_1m']]"
   ]
  },
  {
   "cell_type": "code",
   "execution_count": 10,
   "metadata": {},
   "outputs": [],
   "source": [
    "# score, pvalue, _ = coint(prices[prices.columns[1]],prices[prices.columns[0]])\n",
    "# print(f\"Score: {score}\")\n",
    "# print(f\"P-value: {pvalue}\")\n"
   ]
  },
  {
   "cell_type": "code",
   "execution_count": 11,
   "metadata": {},
   "outputs": [],
   "source": [
    "# prices = prices[prices.diff().ne(0).all(axis=1)]"
   ]
  },
  {
   "cell_type": "code",
   "execution_count": 12,
   "metadata": {},
   "outputs": [],
   "source": [
    "# count_unchanged_rows = (prices.diff().eq(0).all(axis=1)).sum()\n",
    "# print(\"Number of fully unchanged rows:\", count_unchanged_rows)"
   ]
  },
  {
   "cell_type": "markdown",
   "metadata": {},
   "source": [
    "* ## Order book data"
   ]
  },
  {
   "cell_type": "code",
   "execution_count": 13,
   "metadata": {},
   "outputs": [],
   "source": [
    "# #BTC and WBTC\n",
    "# #-------------------------------------------\n",
    "# prices = pd.read_csv('order_book_data/merged_data/1min/btc_wbtc_combined_1m.csv', index_col=0, parse_dates=True)"
   ]
  },
  {
   "cell_type": "code",
   "execution_count": 14,
   "metadata": {},
   "outputs": [],
   "source": [
    "# # Only show columns = btc_mid_price and wbtc_mid_price\n",
    "# prices = prices[['btc_mid_price', 'wbtc_mid_price']]"
   ]
  },
  {
   "cell_type": "code",
   "execution_count": 15,
   "metadata": {},
   "outputs": [],
   "source": [
    "# #Plot the closing prices of the merged data using different y axis\n",
    "\n",
    "# crypto_1 = prices.columns[0]\n",
    "# crypto_2 = prices.columns[1]\n",
    "\n",
    "# fig, ax1 = plt.subplots()\n",
    "\n",
    "# #Set size of the plot\n",
    "# fig.set_size_inches(12, 8)\n",
    "\n",
    "# color = 'tab:red'\n",
    "# ax1.set_xlabel('Time')\n",
    "# ax1.set_ylabel(f'{crypto_1} Closing Price', color=color)\n",
    "# ax1.plot(prices.index, prices[crypto_1], color=color)\n",
    "# ax1.tick_params(axis='y', labelcolor=color)\n",
    "\n",
    "# ax2 = ax1.twinx()\n",
    "# color = 'tab:blue'\n",
    "# ax2.set_ylabel(f'{crypto_2} Closing Price', color=color)\n",
    "# ax2.plot(prices.index, prices[crypto_2], color=color)\n",
    "# ax2.tick_params(axis='y', labelcolor=color)\n",
    "\n",
    "# #Add a title to the plot\n",
    "# plt.title(f'{crypto_1} and {crypto_2} Closing Prices')\n",
    "\n",
    "\n",
    "\n",
    "\n",
    "\n"
   ]
  },
  {
   "cell_type": "code",
   "execution_count": 16,
   "metadata": {},
   "outputs": [],
   "source": [
    "# #Calculate correlation matrix\n",
    "# correlation_matrix = prices.corr()\n",
    "# correlation_matrix"
   ]
  },
  {
   "cell_type": "markdown",
   "metadata": {},
   "source": [
    "# Test for pairs\n",
    "---"
   ]
  },
  {
   "cell_type": "markdown",
   "metadata": {},
   "source": [
    "* ## Apply correlation filter"
   ]
  },
  {
   "cell_type": "code",
   "execution_count": 17,
   "metadata": {},
   "outputs": [],
   "source": [
    "# high_corr_pairs = [('ETC/USDT_2024_1m',\n",
    "#   'ETH/USDT_2024_1m',\n",
    "#   np.float64(0.1506849315068493)\n",
    "#  )]"
   ]
  },
  {
   "cell_type": "code",
   "execution_count": 20,
   "metadata": {},
   "outputs": [],
   "source": [
    "\n",
    "# # Pre-filter: Calculate correlation matrix and select pairs with high correlation\n",
    "# corr_threshold = 0.8\n",
    "# # corr_matrix, high_corr_pairs = filter_high_correlation_pairs(prices, threshold=corr_threshold)\n",
    "# print(f\"\\nPairs with correlation >= {corr_threshold}:\")\n",
    "# for pair in high_corr_pairs:\n",
    "#     print(f\"{pair[0]} & {pair[1]}: correlation = {pair[2]:.4f}\")\n",
    "\n",
    "# # Cointegration test\n",
    "# cointegrated_pairs, pvalue_matrix, residuals_df = find_cointegrated_pairs(prices, high_corr_pairs,significance=0.05)\n",
    "# #cointegrated_pairs, window_results = find_cointegrated_pairs_windows(prices, high_corr_pairs, significance=0.05, window_size=720, min_pass_fraction=0.5)\n"
   ]
  },
  {
   "cell_type": "markdown",
   "metadata": {},
   "source": [
    "# Filter prices dataframe into communities\n",
    "---"
   ]
  },
  {
   "cell_type": "code",
   "execution_count": 18,
   "metadata": {},
   "outputs": [],
   "source": [
    "communities_df = pd.read_csv('results/community_detection/communities_2024.csv', parse_dates=True)\n",
    "\n",
    "#Get the tickers in communities df where the community is 1\n",
    "community_1_tickers = communities_df[communities_df['Community'] == 'Community 1']['Ticker'].tolist()\n",
    "community_2_tickers = communities_df[communities_df['Community'] == 'Community 2']['Ticker'].tolist()\n",
    "\n",
    "#Filter prices for community 1\n",
    "prices_community_1 = prices[community_1_tickers]\n",
    "#Filter prices for community 2\n",
    "prices_community_2 = prices[community_2_tickers]"
   ]
  },
  {
   "cell_type": "markdown",
   "metadata": {},
   "source": [
    "# Find pairs\n",
    "---"
   ]
  },
  {
   "cell_type": "markdown",
   "metadata": {},
   "source": [
    "* ## Communnity 1 pairs"
   ]
  },
  {
   "cell_type": "code",
   "execution_count": 48,
   "metadata": {},
   "outputs": [
    {
     "name": "stdout",
     "output_type": "stream",
     "text": [
      "Cointegrated pair: SUIUSDT_2024_5m & IOTAUSDT_2024_5m, p-value: 0.0234, score: -3.6161\n",
      "Cointegrated pair: SUIUSDT_2024_5m & EGLDUSDT_2024_5m, p-value: 0.0098, score: -3.9029\n",
      "Cointegrated pair: FETUSDT_2024_5m & GALAUSDT_2024_5m, p-value: 0.0435, score: -3.3895\n",
      "Cointegrated pair: FETUSDT_2024_5m & THETAUSDT_2024_5m, p-value: 0.0076, score: -3.9809\n",
      "Cointegrated pair: JTOUSDT_2024_5m & NEARUSDT_2024_5m, p-value: 0.0084, score: -3.9503\n",
      "Cointegrated pair: AXSUSDT_2024_5m & EOSUSDT_2024_5m, p-value: 0.0218, score: -3.6400\n",
      "Cointegrated pair: AXSUSDT_2024_5m & IOTAUSDT_2024_5m, p-value: 0.0075, score: -3.9854\n",
      "Cointegrated pair: AXSUSDT_2024_5m & FLOWUSDT_2024_5m, p-value: 0.0167, score: -3.7316\n",
      "Cointegrated pair: AXSUSDT_2024_5m & MANAUSDT_2024_5m, p-value: 0.0006, score: -4.6928\n",
      "Cointegrated pair: AXSUSDT_2024_5m & APTUSDT_2024_5m, p-value: 0.0442, score: -3.3834\n",
      "Cointegrated pair: AXSUSDT_2024_5m & XTZUSDT_2024_5m, p-value: 0.0149, score: -3.7681\n",
      "Cointegrated pair: AXSUSDT_2024_5m & SANDUSDT_2024_5m, p-value: 0.0014, score: -4.4617\n",
      "Cointegrated pair: AXSUSDT_2024_5m & ALGOUSDT_2024_5m, p-value: 0.0004, score: -4.7868\n",
      "Cointegrated pair: AXSUSDT_2024_5m & FILUSDT_2024_5m, p-value: 0.0004, score: -4.8144\n",
      "Cointegrated pair: AXSUSDT_2024_5m & CRVUSDT_2024_5m, p-value: 0.0119, score: -3.8411\n",
      "Cointegrated pair: GALAUSDT_2024_5m & THETAUSDT_2024_5m, p-value: 0.0006, score: -4.6643\n",
      "Cointegrated pair: GALAUSDT_2024_5m & GRTUSDT_2024_5m, p-value: 0.0096, score: -3.9090\n",
      "Cointegrated pair: EOSUSDT_2024_5m & FLOWUSDT_2024_5m, p-value: 0.0014, score: -4.4712\n",
      "Cointegrated pair: EOSUSDT_2024_5m & HBARUSDT_2024_5m, p-value: 0.0467, score: -3.3624\n",
      "Cointegrated pair: EOSUSDT_2024_5m & MANAUSDT_2024_5m, p-value: 0.0259, score: -3.5808\n",
      "Cointegrated pair: EOSUSDT_2024_5m & ALGOUSDT_2024_5m, p-value: 0.0036, score: -4.2074\n",
      "Cointegrated pair: EOSUSDT_2024_5m & FILUSDT_2024_5m, p-value: 0.0145, score: -3.7775\n",
      "Cointegrated pair: IOTAUSDT_2024_5m & FLOWUSDT_2024_5m, p-value: 0.0449, score: -3.3779\n",
      "Cointegrated pair: IOTAUSDT_2024_5m & MANAUSDT_2024_5m, p-value: 0.0010, score: -4.5462\n",
      "Cointegrated pair: IOTAUSDT_2024_5m & APTUSDT_2024_5m, p-value: 0.0320, score: -3.5042\n",
      "Cointegrated pair: IOTAUSDT_2024_5m & XTZUSDT_2024_5m, p-value: 0.0001, score: -5.0900\n",
      "Cointegrated pair: IOTAUSDT_2024_5m & SANDUSDT_2024_5m, p-value: 0.0015, score: -4.4464\n",
      "Cointegrated pair: IOTAUSDT_2024_5m & SEIUSDT_2024_5m, p-value: 0.0135, score: -3.8002\n",
      "Cointegrated pair: IOTAUSDT_2024_5m & ATOMUSDT_2024_5m, p-value: 0.0005, score: -4.7366\n",
      "Cointegrated pair: IOTAUSDT_2024_5m & FILUSDT_2024_5m, p-value: 0.0229, score: -3.6235\n",
      "Cointegrated pair: IOTAUSDT_2024_5m & CRVUSDT_2024_5m, p-value: 0.0005, score: -4.7141\n",
      "Cointegrated pair: OPUSDT_2024_5m & INJUSDT_2024_5m, p-value: 0.0176, score: -3.7133\n",
      "Cointegrated pair: OPUSDT_2024_5m & EGLDUSDT_2024_5m, p-value: 0.0026, score: -4.2918\n",
      "Cointegrated pair: OPUSDT_2024_5m & SEIUSDT_2024_5m, p-value: 0.0004, score: -4.7719\n",
      "Cointegrated pair: OPUSDT_2024_5m & ATOMUSDT_2024_5m, p-value: 0.0242, score: -3.6046\n",
      "Cointegrated pair: INJUSDT_2024_5m & ARBUSDT_2024_5m, p-value: 0.0088, score: -3.9361\n",
      "Cointegrated pair: INJUSDT_2024_5m & LDOUSDT_2024_5m, p-value: 0.0082, score: -3.9601\n",
      "Cointegrated pair: INJUSDT_2024_5m & EGLDUSDT_2024_5m, p-value: 0.0016, score: -4.4318\n",
      "Cointegrated pair: INJUSDT_2024_5m & SEIUSDT_2024_5m, p-value: 0.0092, score: -3.9244\n",
      "Cointegrated pair: FLOWUSDT_2024_5m & MANAUSDT_2024_5m, p-value: 0.0473, score: -3.3576\n",
      "Cointegrated pair: FLOWUSDT_2024_5m & SANDUSDT_2024_5m, p-value: 0.0385, score: -3.4360\n",
      "Cointegrated pair: FLOWUSDT_2024_5m & ALGOUSDT_2024_5m, p-value: 0.0002, score: -4.9289\n",
      "Cointegrated pair: FLOWUSDT_2024_5m & FILUSDT_2024_5m, p-value: 0.0023, score: -4.3326\n",
      "Cointegrated pair: HBARUSDT_2024_5m & IMXUSDT_2024_5m, p-value: 0.0298, score: -3.5309\n",
      "Cointegrated pair: HBARUSDT_2024_5m & MANAUSDT_2024_5m, p-value: 0.0390, score: -3.4310\n",
      "Cointegrated pair: HBARUSDT_2024_5m & WLDUSDT_2024_5m, p-value: 0.0002, score: -4.9241\n",
      "Cointegrated pair: HBARUSDT_2024_5m & THETAUSDT_2024_5m, p-value: 0.0025, score: -4.3042\n",
      "Cointegrated pair: HBARUSDT_2024_5m & STXUSDT_2024_5m, p-value: 0.0187, score: -3.6927\n",
      "Cointegrated pair: HBARUSDT_2024_5m & NEARUSDT_2024_5m, p-value: 0.0465, score: -3.3644\n",
      "Cointegrated pair: HBARUSDT_2024_5m & GRTUSDT_2024_5m, p-value: 0.0001, score: -5.1322\n",
      "Cointegrated pair: HBARUSDT_2024_5m & SANDUSDT_2024_5m, p-value: 0.0435, score: -3.3894\n",
      "Cointegrated pair: HBARUSDT_2024_5m & UNIUSDT_2024_5m, p-value: 0.0341, score: -3.4813\n",
      "Cointegrated pair: HBARUSDT_2024_5m & ALGOUSDT_2024_5m, p-value: 0.0095, score: -3.9140\n",
      "Cointegrated pair: HBARUSDT_2024_5m & FILUSDT_2024_5m, p-value: 0.0117, score: -3.8463\n",
      "Cointegrated pair: ARBUSDT_2024_5m & LDOUSDT_2024_5m, p-value: 0.0253, score: -3.5891\n",
      "Cointegrated pair: ARBUSDT_2024_5m & EGLDUSDT_2024_5m, p-value: 0.0473, score: -3.3577\n",
      "Cointegrated pair: ARBUSDT_2024_5m & TIAUSDT_2024_5m, p-value: 0.0096, score: -3.9103\n",
      "Cointegrated pair: MANAUSDT_2024_5m & XTZUSDT_2024_5m, p-value: 0.0019, score: -4.3797\n",
      "Cointegrated pair: MANAUSDT_2024_5m & SANDUSDT_2024_5m, p-value: 0.0007, score: -4.6534\n",
      "Cointegrated pair: MANAUSDT_2024_5m & ALGOUSDT_2024_5m, p-value: 0.0133, score: -3.8053\n",
      "Cointegrated pair: MANAUSDT_2024_5m & FILUSDT_2024_5m, p-value: 0.0034, score: -4.2199\n",
      "Cointegrated pair: MANAUSDT_2024_5m & CRVUSDT_2024_5m, p-value: 0.0328, score: -3.4958\n",
      "Cointegrated pair: WLDUSDT_2024_5m & FILUSDT_2024_5m, p-value: 0.0236, score: -3.6125\n",
      "Cointegrated pair: THETAUSDT_2024_5m & GRTUSDT_2024_5m, p-value: 0.0088, score: -3.9378\n",
      "Cointegrated pair: APTUSDT_2024_5m & AVAXUSDT_2024_5m, p-value: 0.0028, score: -4.2784\n",
      "Cointegrated pair: APTUSDT_2024_5m & SANDUSDT_2024_5m, p-value: 0.0313, score: -3.5122\n",
      "Cointegrated pair: APTUSDT_2024_5m & ALGOUSDT_2024_5m, p-value: 0.0359, score: -3.4624\n",
      "Cointegrated pair: XTZUSDT_2024_5m & SANDUSDT_2024_5m, p-value: 0.0002, score: -5.0185\n",
      "Cointegrated pair: XTZUSDT_2024_5m & ATOMUSDT_2024_5m, p-value: 0.0221, score: -3.6362\n",
      "Cointegrated pair: XTZUSDT_2024_5m & FILUSDT_2024_5m, p-value: 0.0155, score: -3.7560\n",
      "Cointegrated pair: XTZUSDT_2024_5m & CRVUSDT_2024_5m, p-value: 0.0031, score: -4.2421\n",
      "Cointegrated pair: SANDUSDT_2024_5m & ATOMUSDT_2024_5m, p-value: 0.0201, score: -3.6687\n",
      "Cointegrated pair: SANDUSDT_2024_5m & ALGOUSDT_2024_5m, p-value: 0.0244, score: -3.6020\n",
      "Cointegrated pair: SANDUSDT_2024_5m & FILUSDT_2024_5m, p-value: 0.0017, score: -4.4127\n",
      "Cointegrated pair: SANDUSDT_2024_5m & CRVUSDT_2024_5m, p-value: 0.0021, score: -4.3500\n",
      "Cointegrated pair: EGLDUSDT_2024_5m & SEIUSDT_2024_5m, p-value: 0.0000, score: -5.9361\n",
      "Cointegrated pair: EGLDUSDT_2024_5m & ATOMUSDT_2024_5m, p-value: 0.0318, score: -3.5073\n",
      "Cointegrated pair: EGLDUSDT_2024_5m & TIAUSDT_2024_5m, p-value: 0.0428, score: -3.3961\n",
      "Cointegrated pair: SEIUSDT_2024_5m & ATOMUSDT_2024_5m, p-value: 0.0072, score: -3.9986\n",
      "Cointegrated pair: SEIUSDT_2024_5m & CRVUSDT_2024_5m, p-value: 0.0103, score: -3.8877\n",
      "Cointegrated pair: ATOMUSDT_2024_5m & CRVUSDT_2024_5m, p-value: 0.0000, score: -5.3225\n",
      "Cointegrated pair: ALGOUSDT_2024_5m & FILUSDT_2024_5m, p-value: 0.0025, score: -4.3070\n",
      "Cointegrated pair: ALGOUSDT_2024_5m & CRVUSDT_2024_5m, p-value: 0.0420, score: -3.4029\n"
     ]
    }
   ],
   "source": [
    "\n",
    "# #Community 1 pairs\n",
    "# #----\n",
    "\n",
    "# # Store results here\n",
    "# cointegration_results_community_1 = []\n",
    "\n",
    "# # Loop through all unique pairs of columns\n",
    "# for col1, col2 in combinations(prices_community_1.columns, 2): #combinations(iterable, r):This function generates all possible combinations of r elements from the given iterable without repetition.\n",
    "#     score, pvalue, _ = coint(prices_community_1[col1], prices_community_1[col2])\n",
    "\n",
    "#     if(pvalue < 0.05):\n",
    "#         print(f\"Cointegrated pair: {col1} & {col2}, p-value: {pvalue:.4f}, score: {score:.4f}\")\n",
    "\n",
    "#         cointegration_results_community_1.append({\n",
    "#             'pair': f\"{col1} & {col2}\",\n",
    "#             'pvalue': pvalue,\n",
    "#             'score': score\n",
    "#         })\n",
    "\n",
    "# # Convert results to a DataFrame\n",
    "# coint_df_community_1 = pd.DataFrame(cointegration_results_community_1)\n",
    "\n",
    "# # Sort by lowest p-value (strongest evidence of cointegration)\n",
    "# coint_df_community_1 = coint_df_community_1.sort_values('pvalue')\n",
    "\n",
    "# #Save results to CSV\n",
    "# coint_df_community_1.to_csv('results/pairs/pairs_community_1.csv', index=False)\n"
   ]
  },
  {
   "cell_type": "markdown",
   "metadata": {},
   "source": [
    "* ## Communnity 2 pairs"
   ]
  },
  {
   "cell_type": "code",
   "execution_count": 46,
   "metadata": {},
   "outputs": [
    {
     "name": "stdout",
     "output_type": "stream",
     "text": [
      "Cointegrated pair: SHIBUSDT_2024_5m & LTCUSDT_2024_5m, p-value: 0.0252, score: -3.5900\n",
      "Cointegrated pair: DOGEUSDT_2024_5m & BCHUSDT_2024_5m, p-value: 0.0078, score: -3.9746\n",
      "Cointegrated pair: DOGEUSDT_2024_5m & LTCUSDT_2024_5m, p-value: 0.0009, score: -4.5694\n",
      "Cointegrated pair: QNTUSDT_2024_5m & XRPUSDT_2024_5m, p-value: 0.0027, score: -4.2816\n",
      "Cointegrated pair: QNTUSDT_2024_5m & XLMUSDT_2024_5m, p-value: 0.0015, score: -4.4538\n",
      "Cointegrated pair: XRPUSDT_2024_5m & ADAUSDT_2024_5m, p-value: 0.0030, score: -4.2512\n",
      "Cointegrated pair: XRPUSDT_2024_5m & AAVEUSDT_2024_5m, p-value: 0.0012, score: -4.4976\n",
      "Cointegrated pair: XRPUSDT_2024_5m & DOTUSDT_2024_5m, p-value: 0.0001, score: -5.0393\n",
      "Cointegrated pair: XRPUSDT_2024_5m & XLMUSDT_2024_5m, p-value: 0.0014, score: -4.4611\n",
      "Cointegrated pair: BCHUSDT_2024_5m & LTCUSDT_2024_5m, p-value: 0.0484, score: -3.3484\n",
      "Cointegrated pair: BCHUSDT_2024_5m & MKRUSDT_2024_5m, p-value: 0.0426, score: -3.3974\n",
      "Cointegrated pair: LTCUSDT_2024_5m & MKRUSDT_2024_5m, p-value: 0.0096, score: -3.9117\n",
      "Cointegrated pair: NEXOUSDT_2024_5m & BTCUSDT_2024_5m, p-value: 0.0251, score: -3.5914\n"
     ]
    }
   ],
   "source": [
    "\n",
    "# #Community 2 pairs\n",
    "# #----\n",
    "\n",
    "# # Store results here\n",
    "# cointegration_results_community_2 = []\n",
    "\n",
    "# # Loop through all unique pairs of columns\n",
    "# for col1, col2 in combinations(prices_community_2.columns, 2):\n",
    "#     score, pvalue, _ = coint(prices_community_2[col1], prices_community_2[col2])\n",
    "\n",
    "#     if(pvalue < 0.05):\n",
    "#         print(f\"Cointegrated pair: {col1} & {col2}, p-value: {pvalue:.4f}, score: {score:.4f}\")\n",
    "\n",
    "#         cointegration_results_community_2.append({\n",
    "#             'pair': f\"{col1} & {col2}\",\n",
    "#             'pvalue': pvalue,\n",
    "#             'score': score\n",
    "#         })\n",
    "\n",
    "\n",
    "# # Convert results to a DataFrame\n",
    "# coint_df_community_2 = pd.DataFrame(cointegration_results_community_2)\n",
    "\n",
    "# # Sort by lowest p-value (strongest evidence of cointegration)\n",
    "# coint_df_community_2 = coint_df_community_2.sort_values('pvalue')\n",
    "\n",
    "# #Save results to CSV\n",
    "# coint_df_community_2.to_csv('results/pairs/pairs_community_2.csv', index=False)\n"
   ]
  },
  {
   "cell_type": "code",
   "execution_count": 31,
   "metadata": {},
   "outputs": [
    {
     "data": {
      "text/plain": [
       "Index(['SHIBUSDT_2024_5m', 'DOGEUSDT_2024_5m', 'QNTUSDT_2024_5m',\n",
       "       'BONKUSDT_2024_5m', 'XRPUSDT_2024_5m', 'BCHUSDT_2024_5m',\n",
       "       'ADAUSDT_2024_5m', 'DEXEUSDT_2024_5m', 'LTCUSDT_2024_5m',\n",
       "       'AAVEUSDT_2024_5m', 'MKRUSDT_2024_5m', 'ETCUSDT_2024_5m',\n",
       "       'PEPEUSDT_2024_5m', 'TRXUSDT_2024_5m', 'VETUSDT_2024_5m',\n",
       "       'NEOUSDT_2024_5m', 'NEXOUSDT_2024_5m', 'BTCUSDT_2024_5m',\n",
       "       'DOTUSDT_2024_5m', 'PAXGUSDT_2024_5m', 'ETHUSDT_2024_5m',\n",
       "       'BNBUSDT_2024_5m', 'XLMUSDT_2024_5m'],\n",
       "      dtype='object')"
      ]
     },
     "execution_count": 31,
     "metadata": {},
     "output_type": "execute_result"
    }
   ],
   "source": [
    "prices_community_2.columns"
   ]
  },
  {
   "cell_type": "markdown",
   "metadata": {},
   "source": [
    "* ## Cross community pairs\n"
   ]
  },
  {
   "cell_type": "code",
   "execution_count": 32,
   "metadata": {},
   "outputs": [
    {
     "name": "stdout",
     "output_type": "stream",
     "text": [
      "Cointegrated pair: SUIUSDT_2024_5m & QNTUSDT_2024_5m, p-value: 0.0298, score: -3.5308\n",
      "Cointegrated pair: FETUSDT_2024_5m & SHIBUSDT_2024_5m, p-value: 0.0017, score: -4.4069\n",
      "Cointegrated pair: FETUSDT_2024_5m & DOGEUSDT_2024_5m, p-value: 0.0019, score: -4.3811\n",
      "Cointegrated pair: FETUSDT_2024_5m & LTCUSDT_2024_5m, p-value: 0.0042, score: -4.1628\n",
      "Cointegrated pair: JTOUSDT_2024_5m & BCHUSDT_2024_5m, p-value: 0.0254, score: -3.5871\n",
      "Cointegrated pair: AXSUSDT_2024_5m & XRPUSDT_2024_5m, p-value: 0.0000, score: -5.3392\n",
      "Cointegrated pair: AXSUSDT_2024_5m & AAVEUSDT_2024_5m, p-value: 0.0320, score: -3.5040\n",
      "Cointegrated pair: AXSUSDT_2024_5m & DOTUSDT_2024_5m, p-value: 0.0001, score: -5.1476\n",
      "Cointegrated pair: AXSUSDT_2024_5m & XLMUSDT_2024_5m, p-value: 0.0229, score: -3.6230\n",
      "Cointegrated pair: GALAUSDT_2024_5m & LTCUSDT_2024_5m, p-value: 0.0009, score: -4.5807\n",
      "Cointegrated pair: EOSUSDT_2024_5m & ETCUSDT_2024_5m, p-value: 0.0396, score: -3.4250\n",
      "Cointegrated pair: IOTAUSDT_2024_5m & XRPUSDT_2024_5m, p-value: 0.0021, score: -4.3611\n",
      "Cointegrated pair: IOTAUSDT_2024_5m & ADAUSDT_2024_5m, p-value: 0.0060, score: -4.0525\n",
      "Cointegrated pair: IOTAUSDT_2024_5m & DOTUSDT_2024_5m, p-value: 0.0076, score: -3.9818\n",
      "Cointegrated pair: IOTAUSDT_2024_5m & XLMUSDT_2024_5m, p-value: 0.0015, score: -4.4481\n",
      "Cointegrated pair: OPUSDT_2024_5m & ADAUSDT_2024_5m, p-value: 0.0435, score: -3.3899\n",
      "Cointegrated pair: INJUSDT_2024_5m & XRPUSDT_2024_5m, p-value: 0.0433, score: -3.3913\n",
      "Cointegrated pair: INJUSDT_2024_5m & ADAUSDT_2024_5m, p-value: 0.0495, score: -3.3394\n",
      "Cointegrated pair: FLOWUSDT_2024_5m & XRPUSDT_2024_5m, p-value: 0.0179, score: -3.7081\n",
      "Cointegrated pair: FLOWUSDT_2024_5m & DOTUSDT_2024_5m, p-value: 0.0294, score: -3.5355\n",
      "Cointegrated pair: HBARUSDT_2024_5m & SHIBUSDT_2024_5m, p-value: 0.0228, score: -3.6256\n",
      "Cointegrated pair: HBARUSDT_2024_5m & LTCUSDT_2024_5m, p-value: 0.0209, score: -3.6558\n",
      "Cointegrated pair: HBARUSDT_2024_5m & ETCUSDT_2024_5m, p-value: 0.0116, score: -3.8505\n",
      "Cointegrated pair: HBARUSDT_2024_5m & VETUSDT_2024_5m, p-value: 0.0123, score: -3.8318\n",
      "Cointegrated pair: HBARUSDT_2024_5m & NEOUSDT_2024_5m, p-value: 0.0364, score: -3.4572\n",
      "Cointegrated pair: HBARUSDT_2024_5m & NEXOUSDT_2024_5m, p-value: 0.0224, score: -3.6305\n",
      "Cointegrated pair: HBARUSDT_2024_5m & DOTUSDT_2024_5m, p-value: 0.0309, score: -3.5174\n",
      "Cointegrated pair: LDOUSDT_2024_5m & PAXGUSDT_2024_5m, p-value: 0.0104, score: -3.8841\n",
      "Cointegrated pair: MANAUSDT_2024_5m & XRPUSDT_2024_5m, p-value: 0.0012, score: -4.5078\n",
      "Cointegrated pair: MANAUSDT_2024_5m & DOTUSDT_2024_5m, p-value: 0.0053, score: -4.0890\n",
      "Cointegrated pair: MANAUSDT_2024_5m & XLMUSDT_2024_5m, p-value: 0.0090, score: -3.9301\n",
      "Cointegrated pair: WLDUSDT_2024_5m & VETUSDT_2024_5m, p-value: 0.0475, score: -3.3554\n",
      "Cointegrated pair: THETAUSDT_2024_5m & SHIBUSDT_2024_5m, p-value: 0.0051, score: -4.1012\n",
      "Cointegrated pair: THETAUSDT_2024_5m & LTCUSDT_2024_5m, p-value: 0.0058, score: -4.0626\n",
      "Cointegrated pair: STXUSDT_2024_5m & VETUSDT_2024_5m, p-value: 0.0319, score: -3.5062\n",
      "Cointegrated pair: APTUSDT_2024_5m & QNTUSDT_2024_5m, p-value: 0.0444, score: -3.3823\n",
      "Cointegrated pair: APTUSDT_2024_5m & XRPUSDT_2024_5m, p-value: 0.0109, score: -3.8711\n",
      "Cointegrated pair: XTZUSDT_2024_5m & QNTUSDT_2024_5m, p-value: 0.0259, score: -3.5798\n",
      "Cointegrated pair: XTZUSDT_2024_5m & XRPUSDT_2024_5m, p-value: 0.0017, score: -4.4102\n",
      "Cointegrated pair: XTZUSDT_2024_5m & ADAUSDT_2024_5m, p-value: 0.0317, score: -3.5079\n",
      "Cointegrated pair: XTZUSDT_2024_5m & DOTUSDT_2024_5m, p-value: 0.0275, score: -3.5594\n",
      "Cointegrated pair: XTZUSDT_2024_5m & XLMUSDT_2024_5m, p-value: 0.0016, score: -4.4364\n",
      "Cointegrated pair: GRTUSDT_2024_5m & LTCUSDT_2024_5m, p-value: 0.0454, score: -3.3730\n",
      "Cointegrated pair: AVAXUSDT_2024_5m & XRPUSDT_2024_5m, p-value: 0.0119, score: -3.8413\n",
      "Cointegrated pair: SANDUSDT_2024_5m & XRPUSDT_2024_5m, p-value: 0.0000, score: -5.5018\n",
      "Cointegrated pair: SANDUSDT_2024_5m & DOTUSDT_2024_5m, p-value: 0.0076, score: -3.9821\n",
      "Cointegrated pair: SANDUSDT_2024_5m & XLMUSDT_2024_5m, p-value: 0.0002, score: -5.0134\n",
      "Cointegrated pair: SEIUSDT_2024_5m & QNTUSDT_2024_5m, p-value: 0.0041, score: -4.1633\n",
      "Cointegrated pair: SEIUSDT_2024_5m & XRPUSDT_2024_5m, p-value: 0.0145, score: -3.7776\n",
      "Cointegrated pair: SEIUSDT_2024_5m & ADAUSDT_2024_5m, p-value: 0.0031, score: -4.2423\n",
      "Cointegrated pair: SEIUSDT_2024_5m & XLMUSDT_2024_5m, p-value: 0.0328, score: -3.4959\n",
      "Cointegrated pair: ATOMUSDT_2024_5m & QNTUSDT_2024_5m, p-value: 0.0241, score: -3.6064\n",
      "Cointegrated pair: ATOMUSDT_2024_5m & XRPUSDT_2024_5m, p-value: 0.0001, score: -5.2642\n",
      "Cointegrated pair: ATOMUSDT_2024_5m & ADAUSDT_2024_5m, p-value: 0.0032, score: -4.2349\n",
      "Cointegrated pair: ATOMUSDT_2024_5m & XLMUSDT_2024_5m, p-value: 0.0012, score: -4.5081\n",
      "Cointegrated pair: ALGOUSDT_2024_5m & XRPUSDT_2024_5m, p-value: 0.0007, score: -4.6340\n",
      "Cointegrated pair: ALGOUSDT_2024_5m & DOTUSDT_2024_5m, p-value: 0.0016, score: -4.4348\n",
      "Cointegrated pair: ALGOUSDT_2024_5m & XLMUSDT_2024_5m, p-value: 0.0489, score: -3.3445\n",
      "Cointegrated pair: FILUSDT_2024_5m & XRPUSDT_2024_5m, p-value: 0.0046, score: -4.1324\n",
      "Cointegrated pair: FILUSDT_2024_5m & DOTUSDT_2024_5m, p-value: 0.0090, score: -3.9295\n",
      "Cointegrated pair: FILUSDT_2024_5m & XLMUSDT_2024_5m, p-value: 0.0375, score: -3.4456\n",
      "Cointegrated pair: CRVUSDT_2024_5m & QNTUSDT_2024_5m, p-value: 0.0498, score: -3.3372\n",
      "Cointegrated pair: CRVUSDT_2024_5m & XRPUSDT_2024_5m, p-value: 0.0000, score: -5.8941\n",
      "Cointegrated pair: CRVUSDT_2024_5m & ADAUSDT_2024_5m, p-value: 0.0118, score: -3.8460\n",
      "Cointegrated pair: CRVUSDT_2024_5m & DOTUSDT_2024_5m, p-value: 0.0282, score: -3.5504\n",
      "Cointegrated pair: CRVUSDT_2024_5m & XLMUSDT_2024_5m, p-value: 0.0002, score: -4.9163\n",
      "Cointegrated pair: TIAUSDT_2024_5m & PAXGUSDT_2024_5m, p-value: 0.0229, score: -3.6229\n"
     ]
    }
   ],
   "source": [
    "\n",
    "#Cross community pairs\n",
    "#----\n",
    "\n",
    "# Store results here\n",
    "cointegration_results_cross_community = []\n",
    "\n",
    "for community_1_col in prices_community_1.columns:\n",
    "    for community_2_col in prices_community_2.columns:\n",
    "        score, pvalue, _ = coint(prices_community_1[community_1_col], prices_community_2[community_2_col])\n",
    "\n",
    "        if(pvalue < 0.05):\n",
    "            print(f\"Cointegrated pair: {community_1_col} & {community_2_col}, p-value: {pvalue:.4f}, score: {score:.4f}\")\n",
    "\n",
    "            cointegration_results_cross_community.append({\n",
    "                'pair': f\"{community_1_col} & {community_2_col}\",\n",
    "                'pvalue': pvalue,\n",
    "                'score': score\n",
    "            })\n",
    "\n",
    "\n",
    "# Convert results to a DataFrame\n",
    "coint_df_cross_communities = pd.DataFrame(cointegration_results_cross_community)\n",
    "\n",
    "# Sort by lowest p-value (strongest evidence of cointegration)\n",
    "coint_df_cross_communities = coint_df_cross_communities.sort_values('pvalue')\n",
    "\n",
    "#Save results to CSV\n",
    "coint_df_cross_communities.to_csv('results/pairs/pairs_cross_communities.csv', index=False)\n"
   ]
  },
  {
   "cell_type": "code",
   "execution_count": 34,
   "metadata": {},
   "outputs": [
    {
     "data": {
      "text/html": [
       "<div>\n",
       "<style scoped>\n",
       "    .dataframe tbody tr th:only-of-type {\n",
       "        vertical-align: middle;\n",
       "    }\n",
       "\n",
       "    .dataframe tbody tr th {\n",
       "        vertical-align: top;\n",
       "    }\n",
       "\n",
       "    .dataframe thead th {\n",
       "        text-align: right;\n",
       "    }\n",
       "</style>\n",
       "<table border=\"1\" class=\"dataframe\">\n",
       "  <thead>\n",
       "    <tr style=\"text-align: right;\">\n",
       "      <th></th>\n",
       "      <th>pair</th>\n",
       "      <th>pvalue</th>\n",
       "      <th>score</th>\n",
       "    </tr>\n",
       "  </thead>\n",
       "  <tbody>\n",
       "    <tr>\n",
       "      <th>9</th>\n",
       "      <td>BCH/USDT_2024_1m &amp; DOGE/USDT_2024_1m</td>\n",
       "      <td>0.004478</td>\n",
       "      <td>-4.140725</td>\n",
       "    </tr>\n",
       "    <tr>\n",
       "      <th>37</th>\n",
       "      <td>GALA/USDT_2024_1m &amp; GRT/USDT_2024_1m</td>\n",
       "      <td>0.005658</td>\n",
       "      <td>-4.071777</td>\n",
       "    </tr>\n",
       "    <tr>\n",
       "      <th>24</th>\n",
       "      <td>ETC/USDT_2024_1m &amp; MANA/USDT_2024_1m</td>\n",
       "      <td>0.036769</td>\n",
       "      <td>-3.453269</td>\n",
       "    </tr>\n",
       "    <tr>\n",
       "      <th>28</th>\n",
       "      <td>ETC/USDT_2024_1m &amp; GRT/USDT_2024_1m</td>\n",
       "      <td>0.039311</td>\n",
       "      <td>-3.428222</td>\n",
       "    </tr>\n",
       "    <tr>\n",
       "      <th>26</th>\n",
       "      <td>ETC/USDT_2024_1m &amp; WLD/USDT_2024_1m</td>\n",
       "      <td>0.042074</td>\n",
       "      <td>-3.402499</td>\n",
       "    </tr>\n",
       "    <tr>\n",
       "      <th>25</th>\n",
       "      <td>ETC/USDT_2024_1m &amp; GALA/USDT_2024_1m</td>\n",
       "      <td>0.046570</td>\n",
       "      <td>-3.363491</td>\n",
       "    </tr>\n",
       "  </tbody>\n",
       "</table>\n",
       "</div>"
      ],
      "text/plain": [
       "                                    pair    pvalue     score\n",
       "9   BCH/USDT_2024_1m & DOGE/USDT_2024_1m  0.004478 -4.140725\n",
       "37  GALA/USDT_2024_1m & GRT/USDT_2024_1m  0.005658 -4.071777\n",
       "24  ETC/USDT_2024_1m & MANA/USDT_2024_1m  0.036769 -3.453269\n",
       "28   ETC/USDT_2024_1m & GRT/USDT_2024_1m  0.039311 -3.428222\n",
       "26   ETC/USDT_2024_1m & WLD/USDT_2024_1m  0.042074 -3.402499\n",
       "25  ETC/USDT_2024_1m & GALA/USDT_2024_1m  0.046570 -3.363491"
      ]
     },
     "execution_count": 34,
     "metadata": {},
     "output_type": "execute_result"
    }
   ],
   "source": [
    "# #Fliter pairs with p-value < 0.05\n",
    "# cointegrated_pairs = coint_df_community_2[coint_df_community_2['pvalue'] < 0.05]\n",
    "# cointegrated_pairs.to_csv('cointegrated_pairs.csv', index=False)\n",
    "# cointegrated_pairs"
   ]
  },
  {
   "cell_type": "code",
   "execution_count": 21,
   "metadata": {},
   "outputs": [
    {
     "name": "stdout",
     "output_type": "stream",
     "text": [
      "Cointegrated\n",
      "Cointegration test p-value: 0.0202\n",
      "Cointegration test critical value: [-3.89652106 -3.33617522 -3.04448139]\n"
     ]
    }
   ],
   "source": [
    "# from statsmodels.tsa.stattools import coint, adfuller\n",
    "\n",
    "# #coin_t, pvalue, crit_value = coint(prices['XRP/USDT_2024_1m'], prices['ADA/USDT_2024_1m'])\n",
    "# coin_t, pvalue, crit_value = coint(prices['DOT/USDT_2024_1m'], prices['XTZ/USDT_2024_1m'])\n",
    "\n",
    "\n",
    "# if(pvalue < 0.05):\n",
    "#     print(\"Cointegrated\")\n",
    "# else:\n",
    "#     print(\"Not Cointegrated\")\n",
    "\n",
    "# print(f\"Cointegration test p-value: {pvalue:.4f}\")\n",
    "# print(f\"Cointegration test critical value: {crit_value}\")"
   ]
  },
  {
   "cell_type": "code",
   "execution_count": 22,
   "metadata": {},
   "outputs": [],
   "source": [
    "# high_corr_pairs = []"
   ]
  },
  {
   "cell_type": "markdown",
   "metadata": {},
   "source": [
    "* ## Test cointegration in windows"
   ]
  },
  {
   "cell_type": "code",
   "execution_count": 23,
   "metadata": {},
   "outputs": [
    {
     "name": "stdout",
     "output_type": "stream",
     "text": [
      "\n",
      "Cointegrated pairs (across windows):\n",
      "DOT/USDT_2024_1m & XTZ/USDT_2024_1m: pass fraction=0.13, avg p-value=0.4305, correlation=0.9469772978525677\n"
     ]
    }
   ],
   "source": [
    "# #Params\n",
    "# window_size = 1440 # 1 day windows \n",
    "# min_pass_fraction = 0\n",
    "# significance = 0.05\n",
    "\n",
    "# #Find cointegrated pairs\n",
    "# cointegrated_pairs, window_results, pair_corr, pass_fraction, avg_pvalue = find_cointegrated_pairs_windows(prices, high_corr_pairs, significance, window_size, min_pass_fraction)"
   ]
  },
  {
   "cell_type": "code",
   "execution_count": null,
   "metadata": {},
   "outputs": [],
   "source": []
  },
  {
   "cell_type": "code",
   "execution_count": 24,
   "metadata": {},
   "outputs": [
    {
     "data": {
      "text/plain": [
       "[('DOT/USDT_2024_1m',\n",
       "  'XTZ/USDT_2024_1m',\n",
       "  np.float64(0.12903225806451613),\n",
       "  np.float64(0.43054026663820555),\n",
       "  0.0)]"
      ]
     },
     "execution_count": 24,
     "metadata": {},
     "output_type": "execute_result"
    }
   ],
   "source": [
    "# cointegrated_pairs"
   ]
  },
  {
   "cell_type": "code",
   "execution_count": 22,
   "metadata": {},
   "outputs": [],
   "source": [
    "# #Window results\n",
    "# windows_list = window_results[('BTC/USDT_2024_30m', 'WBTC/USDT_2024_30m')]\n",
    "# len(windows_list)"
   ]
  },
  {
   "cell_type": "code",
   "execution_count": 21,
   "metadata": {},
   "outputs": [],
   "source": [
    "# #Plot windows\n",
    "\n",
    "# windows = split_price_series_into_windows(prices, window_size)\n",
    "\n",
    "\n",
    "# crypto_1 = prices.columns[0]\n",
    "# crypto_2 = prices.columns[1]\n",
    "\n",
    "# #For ICP/USDT_2024_1h', 'ADA/USDT_2024_1h\n",
    "# plot_spread_in_windows(crypto_1, crypto_2, windows, window_results, significance=0.05) #These spreads look like they are standardised, but they are not. They are centered around 0 due to the inclusion of the intercept term in the cointegration test. The spread is still in the original units of the data.\n",
    "# #plot_spread_in_windows('S1', 'S2', windows, window_results, significance=0.05)\n",
    "\n",
    "# #Check number of windows\n",
    "# #-----------------------\n",
    "# window_results.values()\n",
    "\n",
    "# #Count number of values in window_results\n",
    "# num_windows = 0\n",
    "# for key in window_results.keys():\n",
    "#     print(key)\n",
    "#     num_windows += len(window_results[key])\n",
    "\n",
    "# print(f\"Number of windows: {num_windows}\")"
   ]
  },
  {
   "cell_type": "markdown",
   "metadata": {},
   "source": [
    "* ### Check resiuals"
   ]
  },
  {
   "cell_type": "code",
   "execution_count": 15,
   "metadata": {},
   "outputs": [],
   "source": [
    "# #If you suspect daily intraday patterns, using 24 lags is a natural choice: it checks each hour in a 24-hour cycle for dependence.\n",
    "# #If your sample is large enough (covering many days/weeks), 24 lags is typically enough to detect standard intraday correlation\n",
    "# analyze_residuals(residuals_df, lags = 24)"
   ]
  },
  {
   "cell_type": "markdown",
   "metadata": {},
   "source": [
    "# Validation of cointegration methods using data designed for cointegration\n",
    "---"
   ]
  },
  {
   "cell_type": "code",
   "execution_count": 16,
   "metadata": {},
   "outputs": [],
   "source": [
    "# import numpy as np\n",
    "# import pandas as pd\n",
    "\n",
    "# def generate_cointegrated_data(\n",
    "#     n=720,  # number of data points\n",
    "#     alpha=5.0,\n",
    "#     beta=1.5,\n",
    "#     phi=0.8, #manually set to 0.8 so that the spread is stationary (no unit root)\n",
    "#     seed=42\n",
    "# ):\n",
    "#     \"\"\"\n",
    "#     Generate two cointegrated series: S1 (random walk) and S2 (linear function of S1 + stationary AR(1) noise).\n",
    "    \n",
    "#     Parameters:\n",
    "#         n (int): Number of observations (e.g. 720 for ~1 month of hourly data).\n",
    "#         alpha (float): Intercept term for S2.\n",
    "#         beta (float): S2 coefficient for S1.\n",
    "#         phi (float): AR(1) coefficient for the noise in S2 - beta*S1. Must be <1 in abs value for stationarity.\n",
    "#         seed (int): Random seed for reproducibility.\n",
    "\n",
    "#     Returns:\n",
    "#         pd.DataFrame with columns ['S1', 'S2'] representing the two cointegrated time series.\n",
    "#     \"\"\"\n",
    "#     rng = np.random.default_rng(seed)\n",
    "    \n",
    "#     # 1) Generate S1 as a random walk\n",
    "#     #   S1_t = S1_{t-1} + e1_t\n",
    "#     e1 = rng.normal(loc=0.0, scale=1.0, size=n)\n",
    "#     S1 = np.cumsum(e1)  # cumsum => random walk\n",
    "    \n",
    "#     # 2) Generate a stationary AR(1) noise for the spread\n",
    "#     #   ARnoise_t = phi * ARnoise_{t-1} + e2_t\n",
    "#     e2 = rng.normal(loc=0.0, scale=1.0, size=n)\n",
    "#     ARnoise = np.zeros(n)\n",
    "#     for t in range(1, n):\n",
    "#         ARnoise[t] = phi * ARnoise[t-1] + e2[t]\n",
    "#     # ARnoise is stationary if |phi| < 1\n",
    "    \n",
    "#     # 3) Define S2 = alpha + beta*S1 + AR(1) noise\n",
    "#     S2 = alpha + beta*S1 + ARnoise\n",
    "    \n",
    "#     # Put them in a DataFrame\n",
    "#     df = pd.DataFrame({'S1': S1, 'S2': S2})\n",
    "#     return df\n",
    "\n",
    "# # Example usage\n",
    "# if __name__ == \"__main__\":\n",
    "#     df_cointegrated = generate_cointegrated_data(n=720)\n",
    "#     print(df_cointegrated.head(10))\n"
   ]
  },
  {
   "cell_type": "code",
   "execution_count": 17,
   "metadata": {},
   "outputs": [],
   "source": [
    "# # Suppose df has columns: 'S1', 'S2'\n",
    "# alpha = 5.0\n",
    "# beta = 1.5\n",
    "\n",
    "# # Calculate the spread: S2 - (alpha + beta * S1)\n",
    "# df_cointegrated['spread'] = df_cointegrated['S2'] - alpha - beta * df_cointegrated['S1']\n",
    "\n",
    "# # Plot\n",
    "# plt.figure(figsize=(10,6))\n",
    "# plt.plot(df_cointegrated['spread'], label='Spread = S2 - alpha - beta*S1')\n",
    "# plt.axhline(df_cointegrated['spread'].mean(), color='red', linestyle='--', label='Mean')\n",
    "# plt.title('Spread Over Time')\n",
    "# plt.legend()\n",
    "# plt.show()\n"
   ]
  },
  {
   "cell_type": "code",
   "execution_count": 18,
   "metadata": {},
   "outputs": [],
   "source": [
    "# cointegrated_pairs, window_results = find_cointegrated_pairs_windows(df_cointegrated, high_corr_pairs, significance=0.05, window_size=240, min_pass_fraction=0.5)"
   ]
  },
  {
   "cell_type": "code",
   "execution_count": 19,
   "metadata": {},
   "outputs": [],
   "source": [
    "# window_results"
   ]
  }
 ],
 "metadata": {
  "kernelspec": {
   "display_name": "main_conda_env",
   "language": "python",
   "name": "python3"
  },
  "language_info": {
   "codemirror_mode": {
    "name": "ipython",
    "version": 3
   },
   "file_extension": ".py",
   "mimetype": "text/x-python",
   "name": "python",
   "nbconvert_exporter": "python",
   "pygments_lexer": "ipython3",
   "version": "3.13.1"
  }
 },
 "nbformat": 4,
 "nbformat_minor": 2
}
