{
 "cells": [
  {
   "cell_type": "code",
   "execution_count": 1,
   "metadata": {},
   "outputs": [],
   "source": [
    "from data_pre_processing import *\n",
    "from pair_finder import *\n",
    "from back_tester import *\n",
    "import itertools"
   ]
  },
  {
   "cell_type": "markdown",
   "metadata": {},
   "source": [
    "# Get Data \n",
    "---"
   ]
  },
  {
   "cell_type": "code",
   "execution_count": 1,
   "metadata": {},
   "outputs": [
    {
     "ename": "NameError",
     "evalue": "name 'pd' is not defined",
     "output_type": "error",
     "traceback": [
      "\u001b[0;31m---------------------------------------------------------------------------\u001b[0m",
      "\u001b[0;31mNameError\u001b[0m                                 Traceback (most recent call last)",
      "Cell \u001b[0;32mIn[1], line 1\u001b[0m\n\u001b[0;32m----> 1\u001b[0m prices \u001b[38;5;241m=\u001b[39m \u001b[43mpd\u001b[49m\u001b[38;5;241m.\u001b[39mread_csv(\u001b[38;5;124m'\u001b[39m\u001b[38;5;124mbinance_data/BTC_Cross_Currencies/2025/1m/BTCEUR_2025_1m.csv\u001b[39m\u001b[38;5;124m'\u001b[39m, parse_dates\u001b[38;5;241m=\u001b[39m[\u001b[38;5;124m\"\u001b[39m\u001b[38;5;124mOpen Time\u001b[39m\u001b[38;5;124m\"\u001b[39m], index_col\u001b[38;5;241m=\u001b[39m\u001b[38;5;124m\"\u001b[39m\u001b[38;5;124mOpen Time\u001b[39m\u001b[38;5;124m\"\u001b[39m)\n",
      "\u001b[0;31mNameError\u001b[0m: name 'pd' is not defined"
     ]
    }
   ],
   "source": [
    "prices = pd.read_csv('binance_data/BTC_Cross_Currencies/2025/1m/BTCEUR_2025_1m.csv', parse_dates=[\"Open Time\"], index_col=\"Open Time\")"
   ]
  },
  {
   "cell_type": "code",
   "execution_count": 4,
   "metadata": {},
   "outputs": [
    {
     "name": "stdout",
     "output_type": "stream",
     "text": [
      "                         Open      High       Low     Close   Volume  \\\n",
      "Open Time                                                              \n",
      "2025-01-01 00:00:00  90197.71  90222.83  90173.74  90206.04  0.08840   \n",
      "2025-01-01 00:01:00  90248.70  90278.19  90224.42  90270.49  0.63981   \n",
      "2025-01-01 00:02:00  90278.18  90329.12  90270.52  90329.12  0.14812   \n",
      "2025-01-01 00:03:00  90303.55  90303.55  90278.20  90302.77  0.04056   \n",
      "2025-01-01 00:04:00  90298.02  90298.02  90279.64  90291.57  0.06448   \n",
      "2025-01-01 00:05:00  90279.62  90290.25  90279.62  90290.25  0.02686   \n",
      "2025-01-01 00:06:00  90288.81  90288.81  90224.14  90224.14  0.04098   \n",
      "2025-01-01 00:07:00  90252.00  90252.00  90226.78  90226.78  0.02158   \n",
      "2025-01-01 00:08:00  90218.06  90230.20  90218.06  90230.20  0.05069   \n",
      "2025-01-01 00:09:00  90230.21  90230.21  90230.21  90230.21  0.00053   \n",
      "2025-01-01 00:10:00  90233.62  90240.65  90206.04  90206.04  0.04389   \n",
      "2025-01-01 00:11:00  90150.58  90150.58  90129.98  90130.00  0.02488   \n",
      "2025-01-01 00:12:00  90125.49  90150.16  90114.05  90133.42  0.14099   \n",
      "2025-01-01 00:13:00  90166.06  90166.06  90150.81  90150.81  0.07487   \n",
      "2025-01-01 00:14:00  90193.46  90262.17  90193.46  90262.17  0.04079   \n",
      "2025-01-01 00:15:00  90265.46  90325.67  90242.98  90307.54  0.11591   \n",
      "2025-01-01 00:16:00  90316.42  90397.05  90307.20  90397.05  0.06801   \n",
      "2025-01-01 00:17:00  90383.55  90416.16  90380.81  90416.16  0.01739   \n",
      "2025-01-01 00:18:00  90409.45  90440.93  90409.45  90411.23  0.24683   \n",
      "2025-01-01 00:19:00  90433.57  90499.91  90395.74  90399.22  1.65926   \n",
      "\n",
      "                                  Close Time  Quote Asset Volume  \\\n",
      "Open Time                                                          \n",
      "2025-01-01 00:00:00  2025-01-01 00:00:59.999         7972.812608   \n",
      "2025-01-01 00:01:00  2025-01-01 00:01:59.999        57747.610161   \n",
      "2025-01-01 00:02:00  2025-01-01 00:02:59.999        13374.660595   \n",
      "2025-01-01 00:03:00  2025-01-01 00:03:59.999         3662.556133   \n",
      "2025-01-01 00:04:00  2025-01-01 00:04:59.999         5822.010259   \n",
      "2025-01-01 00:05:00  2025-01-01 00:05:59.999         2425.037650   \n",
      "2025-01-01 00:06:00  2025-01-01 00:06:59.999         3698.039957   \n",
      "2025-01-01 00:07:00  2025-01-01 00:07:59.999         1947.437573   \n",
      "2025-01-01 00:08:00  2025-01-01 00:08:59.999         4573.490685   \n",
      "2025-01-01 00:09:00  2025-01-01 00:09:59.999           47.822011   \n",
      "2025-01-01 00:10:00  2025-01-01 00:10:59.999         3960.375864   \n",
      "2025-01-01 00:11:00  2025-01-01 00:11:59.999         2242.789209   \n",
      "2025-01-01 00:12:00  2025-01-01 00:12:59.999        12707.420704   \n",
      "2025-01-01 00:13:00  2025-01-01 00:13:59.999         6750.433392   \n",
      "2025-01-01 00:14:00  2025-01-01 00:14:59.999         3680.719090   \n",
      "2025-01-01 00:15:00  2025-01-01 00:15:59.999        10461.233482   \n",
      "2025-01-01 00:16:00  2025-01-01 00:16:59.999         6144.093201   \n",
      "2025-01-01 00:17:00  2025-01-01 00:17:59.999         1572.054151   \n",
      "2025-01-01 00:18:00  2025-01-01 00:18:59.999        22318.411924   \n",
      "2025-01-01 00:19:00  2025-01-01 00:19:59.999       150073.246411   \n",
      "\n",
      "                     Number of Trades  Taker Buy Base Volume  \\\n",
      "Open Time                                                      \n",
      "2025-01-01 00:00:00                14                0.02746   \n",
      "2025-01-01 00:01:00                50                0.61757   \n",
      "2025-01-01 00:02:00                19                0.05044   \n",
      "2025-01-01 00:03:00                 8                0.03440   \n",
      "2025-01-01 00:04:00                12                0.00176   \n",
      "2025-01-01 00:05:00                 8                0.02633   \n",
      "2025-01-01 00:06:00                 8                0.01519   \n",
      "2025-01-01 00:07:00                 5                0.00890   \n",
      "2025-01-01 00:08:00                 3                0.05069   \n",
      "2025-01-01 00:09:00                 1                0.00000   \n",
      "2025-01-01 00:10:00                13                0.02049   \n",
      "2025-01-01 00:11:00                11                0.00970   \n",
      "2025-01-01 00:12:00                10                0.13916   \n",
      "2025-01-01 00:13:00                 4                0.07433   \n",
      "2025-01-01 00:14:00                 8                0.03909   \n",
      "2025-01-01 00:15:00                17                0.01674   \n",
      "2025-01-01 00:16:00                29                0.05422   \n",
      "2025-01-01 00:17:00                16                0.00795   \n",
      "2025-01-01 00:18:00                27                0.01185   \n",
      "2025-01-01 00:19:00                95                1.33801   \n",
      "\n",
      "                     Taker Buy Quote Volume  Ignore  \n",
      "Open Time                                            \n",
      "2025-01-01 00:00:00             2476.210790       0  \n",
      "2025-01-01 00:01:00            55740.603635       0  \n",
      "2025-01-01 00:02:00             4554.421409       0  \n",
      "2025-01-01 00:03:00             3106.374303       0  \n",
      "2025-01-01 00:04:00              158.904297       0  \n",
      "2025-01-01 00:05:00             2377.188042       0  \n",
      "2025-01-01 00:06:00             1370.548530       0  \n",
      "2025-01-01 00:07:00              803.067605       0  \n",
      "2025-01-01 00:08:00             4573.490685       0  \n",
      "2025-01-01 00:09:00                0.000000       0  \n",
      "2025-01-01 00:10:00             1849.029498       0  \n",
      "2025-01-01 00:11:00              874.362796       0  \n",
      "2025-01-01 00:12:00            12542.494627       0  \n",
      "2025-01-01 00:13:00             6701.745102       0  \n",
      "2025-01-01 00:14:00             3527.315606       0  \n",
      "2025-01-01 00:15:00             1511.717670       0  \n",
      "2025-01-01 00:16:00             4898.725729       0  \n",
      "2025-01-01 00:17:00              718.743556       0  \n",
      "2025-01-01 00:18:00             1071.520314       0  \n",
      "2025-01-01 00:19:00           121029.567120       0  \n"
     ]
    },
    {
     "data": {
      "text/html": [
       "<div>\n",
       "<style scoped>\n",
       "    .dataframe tbody tr th:only-of-type {\n",
       "        vertical-align: middle;\n",
       "    }\n",
       "\n",
       "    .dataframe tbody tr th {\n",
       "        vertical-align: top;\n",
       "    }\n",
       "\n",
       "    .dataframe thead th {\n",
       "        text-align: right;\n",
       "    }\n",
       "</style>\n",
       "<table border=\"1\" class=\"dataframe\">\n",
       "  <thead>\n",
       "    <tr style=\"text-align: right;\">\n",
       "      <th></th>\n",
       "      <th>Open</th>\n",
       "      <th>High</th>\n",
       "      <th>Low</th>\n",
       "      <th>Close</th>\n",
       "      <th>Volume</th>\n",
       "      <th>Close Time</th>\n",
       "      <th>Quote Asset Volume</th>\n",
       "      <th>Number of Trades</th>\n",
       "      <th>Taker Buy Base Volume</th>\n",
       "      <th>Taker Buy Quote Volume</th>\n",
       "      <th>Ignore</th>\n",
       "    </tr>\n",
       "    <tr>\n",
       "      <th>Open Time</th>\n",
       "      <th></th>\n",
       "      <th></th>\n",
       "      <th></th>\n",
       "      <th></th>\n",
       "      <th></th>\n",
       "      <th></th>\n",
       "      <th></th>\n",
       "      <th></th>\n",
       "      <th></th>\n",
       "      <th></th>\n",
       "      <th></th>\n",
       "    </tr>\n",
       "  </thead>\n",
       "  <tbody>\n",
       "    <tr>\n",
       "      <th>2025-01-01 00:00:00</th>\n",
       "      <td>90197.71</td>\n",
       "      <td>90222.83</td>\n",
       "      <td>90173.74</td>\n",
       "      <td>90206.04</td>\n",
       "      <td>0.08840</td>\n",
       "      <td>2025-01-01 00:00:59.999</td>\n",
       "      <td>7972.812608</td>\n",
       "      <td>14</td>\n",
       "      <td>0.02746</td>\n",
       "      <td>2476.210790</td>\n",
       "      <td>0</td>\n",
       "    </tr>\n",
       "    <tr>\n",
       "      <th>2025-01-01 00:01:00</th>\n",
       "      <td>90248.70</td>\n",
       "      <td>90278.19</td>\n",
       "      <td>90224.42</td>\n",
       "      <td>90270.49</td>\n",
       "      <td>0.63981</td>\n",
       "      <td>2025-01-01 00:01:59.999</td>\n",
       "      <td>57747.610161</td>\n",
       "      <td>50</td>\n",
       "      <td>0.61757</td>\n",
       "      <td>55740.603635</td>\n",
       "      <td>0</td>\n",
       "    </tr>\n",
       "    <tr>\n",
       "      <th>2025-01-01 00:02:00</th>\n",
       "      <td>90278.18</td>\n",
       "      <td>90329.12</td>\n",
       "      <td>90270.52</td>\n",
       "      <td>90329.12</td>\n",
       "      <td>0.14812</td>\n",
       "      <td>2025-01-01 00:02:59.999</td>\n",
       "      <td>13374.660595</td>\n",
       "      <td>19</td>\n",
       "      <td>0.05044</td>\n",
       "      <td>4554.421409</td>\n",
       "      <td>0</td>\n",
       "    </tr>\n",
       "    <tr>\n",
       "      <th>2025-01-01 00:03:00</th>\n",
       "      <td>90303.55</td>\n",
       "      <td>90303.55</td>\n",
       "      <td>90278.20</td>\n",
       "      <td>90302.77</td>\n",
       "      <td>0.04056</td>\n",
       "      <td>2025-01-01 00:03:59.999</td>\n",
       "      <td>3662.556133</td>\n",
       "      <td>8</td>\n",
       "      <td>0.03440</td>\n",
       "      <td>3106.374303</td>\n",
       "      <td>0</td>\n",
       "    </tr>\n",
       "    <tr>\n",
       "      <th>2025-01-01 00:04:00</th>\n",
       "      <td>90298.02</td>\n",
       "      <td>90298.02</td>\n",
       "      <td>90279.64</td>\n",
       "      <td>90291.57</td>\n",
       "      <td>0.06448</td>\n",
       "      <td>2025-01-01 00:04:59.999</td>\n",
       "      <td>5822.010259</td>\n",
       "      <td>12</td>\n",
       "      <td>0.00176</td>\n",
       "      <td>158.904297</td>\n",
       "      <td>0</td>\n",
       "    </tr>\n",
       "    <tr>\n",
       "      <th>...</th>\n",
       "      <td>...</td>\n",
       "      <td>...</td>\n",
       "      <td>...</td>\n",
       "      <td>...</td>\n",
       "      <td>...</td>\n",
       "      <td>...</td>\n",
       "      <td>...</td>\n",
       "      <td>...</td>\n",
       "      <td>...</td>\n",
       "      <td>...</td>\n",
       "      <td>...</td>\n",
       "    </tr>\n",
       "    <tr>\n",
       "      <th>2025-02-28 23:55:00</th>\n",
       "      <td>81426.99</td>\n",
       "      <td>81427.93</td>\n",
       "      <td>81388.21</td>\n",
       "      <td>81388.21</td>\n",
       "      <td>0.00577</td>\n",
       "      <td>2025-02-28 23:55:59.999</td>\n",
       "      <td>469.785100</td>\n",
       "      <td>10</td>\n",
       "      <td>0.00468</td>\n",
       "      <td>381.029169</td>\n",
       "      <td>0</td>\n",
       "    </tr>\n",
       "    <tr>\n",
       "      <th>2025-02-28 23:56:00</th>\n",
       "      <td>81376.58</td>\n",
       "      <td>81376.58</td>\n",
       "      <td>81375.96</td>\n",
       "      <td>81375.96</td>\n",
       "      <td>0.04662</td>\n",
       "      <td>2025-02-28 23:56:59.999</td>\n",
       "      <td>3793.747299</td>\n",
       "      <td>4</td>\n",
       "      <td>0.04662</td>\n",
       "      <td>3793.747299</td>\n",
       "      <td>0</td>\n",
       "    </tr>\n",
       "    <tr>\n",
       "      <th>2025-02-28 23:57:00</th>\n",
       "      <td>81361.99</td>\n",
       "      <td>81361.99</td>\n",
       "      <td>81340.23</td>\n",
       "      <td>81340.23</td>\n",
       "      <td>0.01345</td>\n",
       "      <td>2025-02-28 23:57:59.999</td>\n",
       "      <td>1094.254365</td>\n",
       "      <td>8</td>\n",
       "      <td>0.00007</td>\n",
       "      <td>5.695339</td>\n",
       "      <td>0</td>\n",
       "    </tr>\n",
       "    <tr>\n",
       "      <th>2025-02-28 23:58:00</th>\n",
       "      <td>81340.22</td>\n",
       "      <td>81372.97</td>\n",
       "      <td>81340.22</td>\n",
       "      <td>81365.07</td>\n",
       "      <td>0.09380</td>\n",
       "      <td>2025-02-28 23:58:59.999</td>\n",
       "      <td>7630.035084</td>\n",
       "      <td>8</td>\n",
       "      <td>0.09276</td>\n",
       "      <td>7545.415421</td>\n",
       "      <td>0</td>\n",
       "    </tr>\n",
       "    <tr>\n",
       "      <th>2025-02-28 23:59:00</th>\n",
       "      <td>81365.07</td>\n",
       "      <td>81365.07</td>\n",
       "      <td>81315.68</td>\n",
       "      <td>81315.68</td>\n",
       "      <td>0.12717</td>\n",
       "      <td>2025-02-28 23:59:59.999</td>\n",
       "      <td>10345.779682</td>\n",
       "      <td>15</td>\n",
       "      <td>0.08750</td>\n",
       "      <td>7118.773012</td>\n",
       "      <td>0</td>\n",
       "    </tr>\n",
       "  </tbody>\n",
       "</table>\n",
       "<p>84960 rows × 11 columns</p>\n",
       "</div>"
      ],
      "text/plain": [
       "                         Open      High       Low     Close   Volume  \\\n",
       "Open Time                                                              \n",
       "2025-01-01 00:00:00  90197.71  90222.83  90173.74  90206.04  0.08840   \n",
       "2025-01-01 00:01:00  90248.70  90278.19  90224.42  90270.49  0.63981   \n",
       "2025-01-01 00:02:00  90278.18  90329.12  90270.52  90329.12  0.14812   \n",
       "2025-01-01 00:03:00  90303.55  90303.55  90278.20  90302.77  0.04056   \n",
       "2025-01-01 00:04:00  90298.02  90298.02  90279.64  90291.57  0.06448   \n",
       "...                       ...       ...       ...       ...      ...   \n",
       "2025-02-28 23:55:00  81426.99  81427.93  81388.21  81388.21  0.00577   \n",
       "2025-02-28 23:56:00  81376.58  81376.58  81375.96  81375.96  0.04662   \n",
       "2025-02-28 23:57:00  81361.99  81361.99  81340.23  81340.23  0.01345   \n",
       "2025-02-28 23:58:00  81340.22  81372.97  81340.22  81365.07  0.09380   \n",
       "2025-02-28 23:59:00  81365.07  81365.07  81315.68  81315.68  0.12717   \n",
       "\n",
       "                                  Close Time  Quote Asset Volume  \\\n",
       "Open Time                                                          \n",
       "2025-01-01 00:00:00  2025-01-01 00:00:59.999         7972.812608   \n",
       "2025-01-01 00:01:00  2025-01-01 00:01:59.999        57747.610161   \n",
       "2025-01-01 00:02:00  2025-01-01 00:02:59.999        13374.660595   \n",
       "2025-01-01 00:03:00  2025-01-01 00:03:59.999         3662.556133   \n",
       "2025-01-01 00:04:00  2025-01-01 00:04:59.999         5822.010259   \n",
       "...                                      ...                 ...   \n",
       "2025-02-28 23:55:00  2025-02-28 23:55:59.999          469.785100   \n",
       "2025-02-28 23:56:00  2025-02-28 23:56:59.999         3793.747299   \n",
       "2025-02-28 23:57:00  2025-02-28 23:57:59.999         1094.254365   \n",
       "2025-02-28 23:58:00  2025-02-28 23:58:59.999         7630.035084   \n",
       "2025-02-28 23:59:00  2025-02-28 23:59:59.999        10345.779682   \n",
       "\n",
       "                     Number of Trades  Taker Buy Base Volume  \\\n",
       "Open Time                                                      \n",
       "2025-01-01 00:00:00                14                0.02746   \n",
       "2025-01-01 00:01:00                50                0.61757   \n",
       "2025-01-01 00:02:00                19                0.05044   \n",
       "2025-01-01 00:03:00                 8                0.03440   \n",
       "2025-01-01 00:04:00                12                0.00176   \n",
       "...                               ...                    ...   \n",
       "2025-02-28 23:55:00                10                0.00468   \n",
       "2025-02-28 23:56:00                 4                0.04662   \n",
       "2025-02-28 23:57:00                 8                0.00007   \n",
       "2025-02-28 23:58:00                 8                0.09276   \n",
       "2025-02-28 23:59:00                15                0.08750   \n",
       "\n",
       "                     Taker Buy Quote Volume  Ignore  \n",
       "Open Time                                            \n",
       "2025-01-01 00:00:00             2476.210790       0  \n",
       "2025-01-01 00:01:00            55740.603635       0  \n",
       "2025-01-01 00:02:00             4554.421409       0  \n",
       "2025-01-01 00:03:00             3106.374303       0  \n",
       "2025-01-01 00:04:00              158.904297       0  \n",
       "...                                     ...     ...  \n",
       "2025-02-28 23:55:00              381.029169       0  \n",
       "2025-02-28 23:56:00             3793.747299       0  \n",
       "2025-02-28 23:57:00                5.695339       0  \n",
       "2025-02-28 23:58:00             7545.415421       0  \n",
       "2025-02-28 23:59:00             7118.773012       0  \n",
       "\n",
       "[84960 rows x 11 columns]"
      ]
     },
     "execution_count": 4,
     "metadata": {},
     "output_type": "execute_result"
    }
   ],
   "source": [
    "#Print first 20 rows of prices dataframe\n",
    "\n",
    "print(prices.head(20))\n",
    "\n",
    "prices"
   ]
  },
  {
   "cell_type": "code",
   "execution_count": 2,
   "metadata": {},
   "outputs": [
    {
     "name": "stdout",
     "output_type": "stream",
     "text": [
      "📂 Found 3 CSV files. Converting to 5T-minute timeframe...\n",
      "✅ Converted BTCEUR_2025_1m.csv -> binance_data/BTC_Cross_Currencies/2025/5m/BTCEUR_2025_5m.csv/BTCEUR_2025_5T.csv\n"
     ]
    },
    {
     "name": "stderr",
     "output_type": "stream",
     "text": [
      "/Users/alexandrosdupreez/Documents/GitHub/PairsTrading/data_pre_processing.py:258: FutureWarning: 'T' is deprecated and will be removed in a future version, please use 'min' instead.\n",
      "  df_resampled = df.resample(timeframe).agg({\n",
      "/Users/alexandrosdupreez/Documents/GitHub/PairsTrading/data_pre_processing.py:258: FutureWarning: 'T' is deprecated and will be removed in a future version, please use 'min' instead.\n",
      "  df_resampled = df.resample(timeframe).agg({\n"
     ]
    },
    {
     "name": "stdout",
     "output_type": "stream",
     "text": [
      "✅ Converted BTCUSDT_2025_1m.csv -> binance_data/BTC_Cross_Currencies/2025/5m/BTCEUR_2025_5m.csv/BTCUSDT_2025_5T.csv\n",
      "✅ Converted BTCJPY_2025_1m.csv -> binance_data/BTC_Cross_Currencies/2025/5m/BTCEUR_2025_5m.csv/BTCJPY_2025_5T.csv\n",
      "🎉 Conversion complete!\n"
     ]
    },
    {
     "name": "stderr",
     "output_type": "stream",
     "text": [
      "/Users/alexandrosdupreez/Documents/GitHub/PairsTrading/data_pre_processing.py:258: FutureWarning: 'T' is deprecated and will be removed in a future version, please use 'min' instead.\n",
      "  df_resampled = df.resample(timeframe).agg({\n"
     ]
    }
   ],
   "source": [
    "resample_data('binance_data/BTC_Cross_Currencies/2025/1m', '5T', 'binance_data/BTC_Cross_Currencies/2025/5m/BTCEUR_2025_5m.csv')"
   ]
  },
  {
   "cell_type": "code",
   "execution_count": 5,
   "metadata": {},
   "outputs": [
    {
     "name": "stdout",
     "output_type": "stream",
     "text": [
      "\n",
      "5-minute resampled data:\n",
      "                         Open      High       Low     Close   Volume\n",
      "Open Time                                                           \n",
      "2025-01-01 00:00:00  90197.71  90329.12  90173.74  90291.57  0.98137\n",
      "2025-01-01 00:05:00  90279.62  90290.25  90218.06  90230.21  0.14064\n",
      "2025-01-01 00:10:00  90233.62  90262.17  90114.05  90262.17  0.32542\n",
      "2025-01-01 00:15:00  90265.46  90499.91  90242.98  90399.22  2.10740\n",
      "2025-01-01 00:20:00  90417.62  90518.10  90307.68  90339.06  1.71535\n",
      "2025-01-01 00:25:00  90350.40  90377.31  90325.60  90372.24  0.31417\n",
      "2025-01-01 00:30:00  90372.71  90559.82  90372.71  90491.21  0.58805\n",
      "2025-01-01 00:35:00  90486.65  90518.81  90448.71  90518.68  0.84058\n",
      "2025-01-01 00:40:00  90509.91  90555.51  90482.28  90499.86  0.21234\n",
      "2025-01-01 00:45:00  90500.06  90594.92  90474.35  90594.92  0.24636\n",
      "2025-01-01 00:50:00  90575.56  90895.43  90575.41  90842.79  0.48248\n",
      "2025-01-01 00:55:00  90819.57  91053.12  90801.89  90993.08  1.23911\n",
      "2025-01-01 01:00:00  90923.63  90923.63  90699.57  90699.57  0.21436\n",
      "2025-01-01 01:05:00  90709.09  90709.09  90525.09  90649.88  1.18880\n",
      "2025-01-01 01:10:00  90675.20  90776.37  90675.20  90746.72  0.45573\n",
      "2025-01-01 01:15:00  90744.96  90744.96  90577.42  90590.36  0.27363\n",
      "2025-01-01 01:20:00  90591.00  90591.41  90460.97  90513.13  0.14229\n",
      "2025-01-01 01:25:00  90544.85  90544.85  90453.70  90453.70  0.38614\n",
      "2025-01-01 01:30:00  90453.69  90602.39  90453.69  90555.60  0.20265\n",
      "2025-01-01 01:35:00  90587.31  90587.31  90527.99  90550.00  0.63869\n"
     ]
    },
    {
     "name": "stderr",
     "output_type": "stream",
     "text": [
      "/var/folders/v0/xxx_2wqx4qsc_858pvgmg3_m0000gp/T/ipykernel_14022/607770238.py:4: FutureWarning: 'T' is deprecated and will be removed in a future version, please use 'min' instead.\n",
      "  df_5min = prices.resample(\"5T\").agg({\n"
     ]
    }
   ],
   "source": [
    "#Create a new dataframe by getting every 5th row of the original dataframe\n",
    "# Resample the data to 5-minute frequency.\n",
    "# '5T' is the offset alias for 5 minutes.\n",
    "df_5min = prices.resample(\"5T\").agg({\n",
    "    \"Open\": \"first\",  # first value in the 5-minute period\n",
    "    \"High\": \"max\",    # highest value in the 5-minute period\n",
    "    \"Low\": \"min\",     # lowest value in the 5-minute period\n",
    "    \"Close\": \"last\",  # last value in the 5-minute period\n",
    "    \"Volume\": \"sum\"   # sum of volumes over the period\n",
    "})\n",
    "\n",
    "# Optionally, drop any periods where the market was closed (if any row has a NaN in 'Open')\n",
    "df_5min.dropna(subset=[\"Open\"], inplace=True)\n",
    "\n",
    "print(\"\\n5-minute resampled data:\")\n",
    "print(df_5min.head(20))\n"
   ]
  },
  {
   "cell_type": "code",
   "execution_count": 6,
   "metadata": {},
   "outputs": [
    {
     "name": "stdout",
     "output_type": "stream",
     "text": [
      "⚠️ Skipping merged_closing_prices.csv - Required columns missing\n",
      "⚠️ Detected 476 missing values across the dataset.\n",
      "   - BTC/USDT_2024_1m: 284 missing values\n",
      "   - BTCEUR_2024_1m: 192 missing values\n",
      "✅ All missing values have been successfully filled.\n"
     ]
    },
    {
     "name": "stderr",
     "output_type": "stream",
     "text": [
      "/Users/alexandrosdupreez/Documents/GitHub/PairsTrading/data_pre_processing.py:190: FutureWarning: DataFrame.fillna with 'method' is deprecated and will raise in a future version. Use obj.ffill() or obj.bfill() instead.\n",
      "  merged_df.fillna(method='ffill', inplace=True)\n",
      "/Users/alexandrosdupreez/Documents/GitHub/PairsTrading/data_pre_processing.py:191: FutureWarning: DataFrame.fillna with 'method' is deprecated and will raise in a future version. Use obj.ffill() or obj.bfill() instead.\n",
      "  merged_df.fillna(method='bfill', inplace=True)\n"
     ]
    },
    {
     "name": "stdout",
     "output_type": "stream",
     "text": [
      "✅ Merged file saved as: binance_data/BTC_Cross_Currencies/2024/1m/merged_closing_prices.csv\n"
     ]
    },
    {
     "data": {
      "text/html": [
       "<div>\n",
       "<style scoped>\n",
       "    .dataframe tbody tr th:only-of-type {\n",
       "        vertical-align: middle;\n",
       "    }\n",
       "\n",
       "    .dataframe tbody tr th {\n",
       "        vertical-align: top;\n",
       "    }\n",
       "\n",
       "    .dataframe thead th {\n",
       "        text-align: right;\n",
       "    }\n",
       "</style>\n",
       "<table border=\"1\" class=\"dataframe\">\n",
       "  <thead>\n",
       "    <tr style=\"text-align: right;\">\n",
       "      <th></th>\n",
       "      <th>timestamp</th>\n",
       "      <th>BTC/USDT_2024_1m</th>\n",
       "      <th>BTCJPY_2024_1m</th>\n",
       "      <th>BTCEUR_2024_1m</th>\n",
       "    </tr>\n",
       "  </thead>\n",
       "  <tbody>\n",
       "    <tr>\n",
       "      <th>0</th>\n",
       "      <td>2024-04-01 00:00:00</td>\n",
       "      <td>71186.00</td>\n",
       "      <td>10778951.0</td>\n",
       "      <td>66048.23</td>\n",
       "    </tr>\n",
       "    <tr>\n",
       "      <th>1</th>\n",
       "      <td>2024-04-01 00:01:00</td>\n",
       "      <td>71220.01</td>\n",
       "      <td>10782339.0</td>\n",
       "      <td>66083.17</td>\n",
       "    </tr>\n",
       "    <tr>\n",
       "      <th>2</th>\n",
       "      <td>2024-04-01 00:02:00</td>\n",
       "      <td>71155.92</td>\n",
       "      <td>10778951.0</td>\n",
       "      <td>66013.37</td>\n",
       "    </tr>\n",
       "    <tr>\n",
       "      <th>3</th>\n",
       "      <td>2024-04-01 00:03:00</td>\n",
       "      <td>71223.07</td>\n",
       "      <td>10778951.0</td>\n",
       "      <td>66071.34</td>\n",
       "    </tr>\n",
       "    <tr>\n",
       "      <th>4</th>\n",
       "      <td>2024-04-01 00:04:00</td>\n",
       "      <td>71233.42</td>\n",
       "      <td>10778680.0</td>\n",
       "      <td>66082.50</td>\n",
       "    </tr>\n",
       "    <tr>\n",
       "      <th>...</th>\n",
       "      <td>...</td>\n",
       "      <td>...</td>\n",
       "      <td>...</td>\n",
       "      <td>...</td>\n",
       "    </tr>\n",
       "    <tr>\n",
       "      <th>395969</th>\n",
       "      <td>2024-12-31 23:55:00</td>\n",
       "      <td>93667.52</td>\n",
       "      <td>14722497.0</td>\n",
       "      <td>90292.00</td>\n",
       "    </tr>\n",
       "    <tr>\n",
       "      <th>395970</th>\n",
       "      <td>2024-12-31 23:56:00</td>\n",
       "      <td>93636.37</td>\n",
       "      <td>14722497.0</td>\n",
       "      <td>90264.74</td>\n",
       "    </tr>\n",
       "    <tr>\n",
       "      <th>395971</th>\n",
       "      <td>2024-12-31 23:57:00</td>\n",
       "      <td>93616.04</td>\n",
       "      <td>14719431.0</td>\n",
       "      <td>90247.77</td>\n",
       "    </tr>\n",
       "    <tr>\n",
       "      <th>395972</th>\n",
       "      <td>2024-12-31 23:58:00</td>\n",
       "      <td>93600.00</td>\n",
       "      <td>14720928.0</td>\n",
       "      <td>90228.24</td>\n",
       "    </tr>\n",
       "    <tr>\n",
       "      <th>395973</th>\n",
       "      <td>2024-12-31 23:59:00</td>\n",
       "      <td>93576.00</td>\n",
       "      <td>14720928.0</td>\n",
       "      <td>90206.00</td>\n",
       "    </tr>\n",
       "  </tbody>\n",
       "</table>\n",
       "<p>395974 rows × 4 columns</p>\n",
       "</div>"
      ],
      "text/plain": [
       "                 timestamp  BTC/USDT_2024_1m  BTCJPY_2024_1m  BTCEUR_2024_1m\n",
       "0      2024-04-01 00:00:00          71186.00      10778951.0        66048.23\n",
       "1      2024-04-01 00:01:00          71220.01      10782339.0        66083.17\n",
       "2      2024-04-01 00:02:00          71155.92      10778951.0        66013.37\n",
       "3      2024-04-01 00:03:00          71223.07      10778951.0        66071.34\n",
       "4      2024-04-01 00:04:00          71233.42      10778680.0        66082.50\n",
       "...                    ...               ...             ...             ...\n",
       "395969 2024-12-31 23:55:00          93667.52      14722497.0        90292.00\n",
       "395970 2024-12-31 23:56:00          93636.37      14722497.0        90264.74\n",
       "395971 2024-12-31 23:57:00          93616.04      14719431.0        90247.77\n",
       "395972 2024-12-31 23:58:00          93600.00      14720928.0        90228.24\n",
       "395973 2024-12-31 23:59:00          93576.00      14720928.0        90206.00\n",
       "\n",
       "[395974 rows x 4 columns]"
      ]
     },
     "execution_count": 6,
     "metadata": {},
     "output_type": "execute_result"
    }
   ],
   "source": [
    "merge_ohlc_closing_prices('binance_data/BTC_Cross_Currencies/2024/1m')"
   ]
  },
  {
   "cell_type": "code",
   "execution_count": 7,
   "metadata": {},
   "outputs": [],
   "source": [
    "#XVS/USDT_2024_30m & QI/USDT_2024_30m"
   ]
  },
  {
   "cell_type": "code",
   "execution_count": 8,
   "metadata": {},
   "outputs": [
    {
     "ename": "FileNotFoundError",
     "evalue": "[Errno 2] No such file or directory: 'binance_data/BTC_Cross_Currencies/2025/1m/merged_closing_prices.csv'",
     "output_type": "error",
     "traceback": [
      "\u001b[0;31m---------------------------------------------------------------------------\u001b[0m",
      "\u001b[0;31mFileNotFoundError\u001b[0m                         Traceback (most recent call last)",
      "Cell \u001b[0;32mIn[8], line 7\u001b[0m\n\u001b[1;32m      1\u001b[0m \u001b[38;5;66;03m#prices = pd.read_csv(\"binance_data/Wrapped BTC/2024/30m/merged_closing_prices.csv\", index_col=0, parse_dates=True)\u001b[39;00m\n\u001b[1;32m      2\u001b[0m \n\u001b[1;32m      3\u001b[0m \u001b[38;5;66;03m#prices = pd.read_csv(\"binance_data/Staked_ETH_Bybit/merged_closing_prices.csv\", index_col=0, parse_dates=True)\u001b[39;00m\n\u001b[1;32m      4\u001b[0m \n\u001b[1;32m      5\u001b[0m \u001b[38;5;66;03m#prices = pd.read_csv(\"binance_data/From_Paper/2023/1m/merged_From_Paper_closing_prices_OCT_NOV.csv\", index_col=0, parse_dates=True)\u001b[39;00m\n\u001b[0;32m----> 7\u001b[0m prices \u001b[38;5;241m=\u001b[39m \u001b[43mpd\u001b[49m\u001b[38;5;241;43m.\u001b[39;49m\u001b[43mread_csv\u001b[49m\u001b[43m(\u001b[49m\u001b[38;5;124;43m'\u001b[39;49m\u001b[38;5;124;43mbinance_data/BTC_Cross_Currencies/2025/1m/merged_closing_prices.csv\u001b[39;49m\u001b[38;5;124;43m'\u001b[39;49m\u001b[43m,\u001b[49m\u001b[43m \u001b[49m\u001b[43mindex_col\u001b[49m\u001b[38;5;241;43m=\u001b[39;49m\u001b[38;5;241;43m0\u001b[39;49m\u001b[43m,\u001b[49m\u001b[43m \u001b[49m\u001b[43mparse_dates\u001b[49m\u001b[38;5;241;43m=\u001b[39;49m\u001b[38;5;28;43;01mTrue\u001b[39;49;00m\u001b[43m)\u001b[49m\n",
      "File \u001b[0;32m/opt/anaconda3/envs/main_conda_env/lib/python3.13/site-packages/pandas/io/parsers/readers.py:1026\u001b[0m, in \u001b[0;36mread_csv\u001b[0;34m(filepath_or_buffer, sep, delimiter, header, names, index_col, usecols, dtype, engine, converters, true_values, false_values, skipinitialspace, skiprows, skipfooter, nrows, na_values, keep_default_na, na_filter, verbose, skip_blank_lines, parse_dates, infer_datetime_format, keep_date_col, date_parser, date_format, dayfirst, cache_dates, iterator, chunksize, compression, thousands, decimal, lineterminator, quotechar, quoting, doublequote, escapechar, comment, encoding, encoding_errors, dialect, on_bad_lines, delim_whitespace, low_memory, memory_map, float_precision, storage_options, dtype_backend)\u001b[0m\n\u001b[1;32m   1013\u001b[0m kwds_defaults \u001b[38;5;241m=\u001b[39m _refine_defaults_read(\n\u001b[1;32m   1014\u001b[0m     dialect,\n\u001b[1;32m   1015\u001b[0m     delimiter,\n\u001b[0;32m   (...)\u001b[0m\n\u001b[1;32m   1022\u001b[0m     dtype_backend\u001b[38;5;241m=\u001b[39mdtype_backend,\n\u001b[1;32m   1023\u001b[0m )\n\u001b[1;32m   1024\u001b[0m kwds\u001b[38;5;241m.\u001b[39mupdate(kwds_defaults)\n\u001b[0;32m-> 1026\u001b[0m \u001b[38;5;28;01mreturn\u001b[39;00m \u001b[43m_read\u001b[49m\u001b[43m(\u001b[49m\u001b[43mfilepath_or_buffer\u001b[49m\u001b[43m,\u001b[49m\u001b[43m \u001b[49m\u001b[43mkwds\u001b[49m\u001b[43m)\u001b[49m\n",
      "File \u001b[0;32m/opt/anaconda3/envs/main_conda_env/lib/python3.13/site-packages/pandas/io/parsers/readers.py:620\u001b[0m, in \u001b[0;36m_read\u001b[0;34m(filepath_or_buffer, kwds)\u001b[0m\n\u001b[1;32m    617\u001b[0m _validate_names(kwds\u001b[38;5;241m.\u001b[39mget(\u001b[38;5;124m\"\u001b[39m\u001b[38;5;124mnames\u001b[39m\u001b[38;5;124m\"\u001b[39m, \u001b[38;5;28;01mNone\u001b[39;00m))\n\u001b[1;32m    619\u001b[0m \u001b[38;5;66;03m# Create the parser.\u001b[39;00m\n\u001b[0;32m--> 620\u001b[0m parser \u001b[38;5;241m=\u001b[39m \u001b[43mTextFileReader\u001b[49m\u001b[43m(\u001b[49m\u001b[43mfilepath_or_buffer\u001b[49m\u001b[43m,\u001b[49m\u001b[43m \u001b[49m\u001b[38;5;241;43m*\u001b[39;49m\u001b[38;5;241;43m*\u001b[39;49m\u001b[43mkwds\u001b[49m\u001b[43m)\u001b[49m\n\u001b[1;32m    622\u001b[0m \u001b[38;5;28;01mif\u001b[39;00m chunksize \u001b[38;5;129;01mor\u001b[39;00m iterator:\n\u001b[1;32m    623\u001b[0m     \u001b[38;5;28;01mreturn\u001b[39;00m parser\n",
      "File \u001b[0;32m/opt/anaconda3/envs/main_conda_env/lib/python3.13/site-packages/pandas/io/parsers/readers.py:1620\u001b[0m, in \u001b[0;36mTextFileReader.__init__\u001b[0;34m(self, f, engine, **kwds)\u001b[0m\n\u001b[1;32m   1617\u001b[0m     \u001b[38;5;28mself\u001b[39m\u001b[38;5;241m.\u001b[39moptions[\u001b[38;5;124m\"\u001b[39m\u001b[38;5;124mhas_index_names\u001b[39m\u001b[38;5;124m\"\u001b[39m] \u001b[38;5;241m=\u001b[39m kwds[\u001b[38;5;124m\"\u001b[39m\u001b[38;5;124mhas_index_names\u001b[39m\u001b[38;5;124m\"\u001b[39m]\n\u001b[1;32m   1619\u001b[0m \u001b[38;5;28mself\u001b[39m\u001b[38;5;241m.\u001b[39mhandles: IOHandles \u001b[38;5;241m|\u001b[39m \u001b[38;5;28;01mNone\u001b[39;00m \u001b[38;5;241m=\u001b[39m \u001b[38;5;28;01mNone\u001b[39;00m\n\u001b[0;32m-> 1620\u001b[0m \u001b[38;5;28mself\u001b[39m\u001b[38;5;241m.\u001b[39m_engine \u001b[38;5;241m=\u001b[39m \u001b[38;5;28;43mself\u001b[39;49m\u001b[38;5;241;43m.\u001b[39;49m\u001b[43m_make_engine\u001b[49m\u001b[43m(\u001b[49m\u001b[43mf\u001b[49m\u001b[43m,\u001b[49m\u001b[43m \u001b[49m\u001b[38;5;28;43mself\u001b[39;49m\u001b[38;5;241;43m.\u001b[39;49m\u001b[43mengine\u001b[49m\u001b[43m)\u001b[49m\n",
      "File \u001b[0;32m/opt/anaconda3/envs/main_conda_env/lib/python3.13/site-packages/pandas/io/parsers/readers.py:1880\u001b[0m, in \u001b[0;36mTextFileReader._make_engine\u001b[0;34m(self, f, engine)\u001b[0m\n\u001b[1;32m   1878\u001b[0m     \u001b[38;5;28;01mif\u001b[39;00m \u001b[38;5;124m\"\u001b[39m\u001b[38;5;124mb\u001b[39m\u001b[38;5;124m\"\u001b[39m \u001b[38;5;129;01mnot\u001b[39;00m \u001b[38;5;129;01min\u001b[39;00m mode:\n\u001b[1;32m   1879\u001b[0m         mode \u001b[38;5;241m+\u001b[39m\u001b[38;5;241m=\u001b[39m \u001b[38;5;124m\"\u001b[39m\u001b[38;5;124mb\u001b[39m\u001b[38;5;124m\"\u001b[39m\n\u001b[0;32m-> 1880\u001b[0m \u001b[38;5;28mself\u001b[39m\u001b[38;5;241m.\u001b[39mhandles \u001b[38;5;241m=\u001b[39m \u001b[43mget_handle\u001b[49m\u001b[43m(\u001b[49m\n\u001b[1;32m   1881\u001b[0m \u001b[43m    \u001b[49m\u001b[43mf\u001b[49m\u001b[43m,\u001b[49m\n\u001b[1;32m   1882\u001b[0m \u001b[43m    \u001b[49m\u001b[43mmode\u001b[49m\u001b[43m,\u001b[49m\n\u001b[1;32m   1883\u001b[0m \u001b[43m    \u001b[49m\u001b[43mencoding\u001b[49m\u001b[38;5;241;43m=\u001b[39;49m\u001b[38;5;28;43mself\u001b[39;49m\u001b[38;5;241;43m.\u001b[39;49m\u001b[43moptions\u001b[49m\u001b[38;5;241;43m.\u001b[39;49m\u001b[43mget\u001b[49m\u001b[43m(\u001b[49m\u001b[38;5;124;43m\"\u001b[39;49m\u001b[38;5;124;43mencoding\u001b[39;49m\u001b[38;5;124;43m\"\u001b[39;49m\u001b[43m,\u001b[49m\u001b[43m \u001b[49m\u001b[38;5;28;43;01mNone\u001b[39;49;00m\u001b[43m)\u001b[49m\u001b[43m,\u001b[49m\n\u001b[1;32m   1884\u001b[0m \u001b[43m    \u001b[49m\u001b[43mcompression\u001b[49m\u001b[38;5;241;43m=\u001b[39;49m\u001b[38;5;28;43mself\u001b[39;49m\u001b[38;5;241;43m.\u001b[39;49m\u001b[43moptions\u001b[49m\u001b[38;5;241;43m.\u001b[39;49m\u001b[43mget\u001b[49m\u001b[43m(\u001b[49m\u001b[38;5;124;43m\"\u001b[39;49m\u001b[38;5;124;43mcompression\u001b[39;49m\u001b[38;5;124;43m\"\u001b[39;49m\u001b[43m,\u001b[49m\u001b[43m \u001b[49m\u001b[38;5;28;43;01mNone\u001b[39;49;00m\u001b[43m)\u001b[49m\u001b[43m,\u001b[49m\n\u001b[1;32m   1885\u001b[0m \u001b[43m    \u001b[49m\u001b[43mmemory_map\u001b[49m\u001b[38;5;241;43m=\u001b[39;49m\u001b[38;5;28;43mself\u001b[39;49m\u001b[38;5;241;43m.\u001b[39;49m\u001b[43moptions\u001b[49m\u001b[38;5;241;43m.\u001b[39;49m\u001b[43mget\u001b[49m\u001b[43m(\u001b[49m\u001b[38;5;124;43m\"\u001b[39;49m\u001b[38;5;124;43mmemory_map\u001b[39;49m\u001b[38;5;124;43m\"\u001b[39;49m\u001b[43m,\u001b[49m\u001b[43m \u001b[49m\u001b[38;5;28;43;01mFalse\u001b[39;49;00m\u001b[43m)\u001b[49m\u001b[43m,\u001b[49m\n\u001b[1;32m   1886\u001b[0m \u001b[43m    \u001b[49m\u001b[43mis_text\u001b[49m\u001b[38;5;241;43m=\u001b[39;49m\u001b[43mis_text\u001b[49m\u001b[43m,\u001b[49m\n\u001b[1;32m   1887\u001b[0m \u001b[43m    \u001b[49m\u001b[43merrors\u001b[49m\u001b[38;5;241;43m=\u001b[39;49m\u001b[38;5;28;43mself\u001b[39;49m\u001b[38;5;241;43m.\u001b[39;49m\u001b[43moptions\u001b[49m\u001b[38;5;241;43m.\u001b[39;49m\u001b[43mget\u001b[49m\u001b[43m(\u001b[49m\u001b[38;5;124;43m\"\u001b[39;49m\u001b[38;5;124;43mencoding_errors\u001b[39;49m\u001b[38;5;124;43m\"\u001b[39;49m\u001b[43m,\u001b[49m\u001b[43m \u001b[49m\u001b[38;5;124;43m\"\u001b[39;49m\u001b[38;5;124;43mstrict\u001b[39;49m\u001b[38;5;124;43m\"\u001b[39;49m\u001b[43m)\u001b[49m\u001b[43m,\u001b[49m\n\u001b[1;32m   1888\u001b[0m \u001b[43m    \u001b[49m\u001b[43mstorage_options\u001b[49m\u001b[38;5;241;43m=\u001b[39;49m\u001b[38;5;28;43mself\u001b[39;49m\u001b[38;5;241;43m.\u001b[39;49m\u001b[43moptions\u001b[49m\u001b[38;5;241;43m.\u001b[39;49m\u001b[43mget\u001b[49m\u001b[43m(\u001b[49m\u001b[38;5;124;43m\"\u001b[39;49m\u001b[38;5;124;43mstorage_options\u001b[39;49m\u001b[38;5;124;43m\"\u001b[39;49m\u001b[43m,\u001b[49m\u001b[43m \u001b[49m\u001b[38;5;28;43;01mNone\u001b[39;49;00m\u001b[43m)\u001b[49m\u001b[43m,\u001b[49m\n\u001b[1;32m   1889\u001b[0m \u001b[43m\u001b[49m\u001b[43m)\u001b[49m\n\u001b[1;32m   1890\u001b[0m \u001b[38;5;28;01massert\u001b[39;00m \u001b[38;5;28mself\u001b[39m\u001b[38;5;241m.\u001b[39mhandles \u001b[38;5;129;01mis\u001b[39;00m \u001b[38;5;129;01mnot\u001b[39;00m \u001b[38;5;28;01mNone\u001b[39;00m\n\u001b[1;32m   1891\u001b[0m f \u001b[38;5;241m=\u001b[39m \u001b[38;5;28mself\u001b[39m\u001b[38;5;241m.\u001b[39mhandles\u001b[38;5;241m.\u001b[39mhandle\n",
      "File \u001b[0;32m/opt/anaconda3/envs/main_conda_env/lib/python3.13/site-packages/pandas/io/common.py:873\u001b[0m, in \u001b[0;36mget_handle\u001b[0;34m(path_or_buf, mode, encoding, compression, memory_map, is_text, errors, storage_options)\u001b[0m\n\u001b[1;32m    868\u001b[0m \u001b[38;5;28;01melif\u001b[39;00m \u001b[38;5;28misinstance\u001b[39m(handle, \u001b[38;5;28mstr\u001b[39m):\n\u001b[1;32m    869\u001b[0m     \u001b[38;5;66;03m# Check whether the filename is to be opened in binary mode.\u001b[39;00m\n\u001b[1;32m    870\u001b[0m     \u001b[38;5;66;03m# Binary mode does not support 'encoding' and 'newline'.\u001b[39;00m\n\u001b[1;32m    871\u001b[0m     \u001b[38;5;28;01mif\u001b[39;00m ioargs\u001b[38;5;241m.\u001b[39mencoding \u001b[38;5;129;01mand\u001b[39;00m \u001b[38;5;124m\"\u001b[39m\u001b[38;5;124mb\u001b[39m\u001b[38;5;124m\"\u001b[39m \u001b[38;5;129;01mnot\u001b[39;00m \u001b[38;5;129;01min\u001b[39;00m ioargs\u001b[38;5;241m.\u001b[39mmode:\n\u001b[1;32m    872\u001b[0m         \u001b[38;5;66;03m# Encoding\u001b[39;00m\n\u001b[0;32m--> 873\u001b[0m         handle \u001b[38;5;241m=\u001b[39m \u001b[38;5;28;43mopen\u001b[39;49m\u001b[43m(\u001b[49m\n\u001b[1;32m    874\u001b[0m \u001b[43m            \u001b[49m\u001b[43mhandle\u001b[49m\u001b[43m,\u001b[49m\n\u001b[1;32m    875\u001b[0m \u001b[43m            \u001b[49m\u001b[43mioargs\u001b[49m\u001b[38;5;241;43m.\u001b[39;49m\u001b[43mmode\u001b[49m\u001b[43m,\u001b[49m\n\u001b[1;32m    876\u001b[0m \u001b[43m            \u001b[49m\u001b[43mencoding\u001b[49m\u001b[38;5;241;43m=\u001b[39;49m\u001b[43mioargs\u001b[49m\u001b[38;5;241;43m.\u001b[39;49m\u001b[43mencoding\u001b[49m\u001b[43m,\u001b[49m\n\u001b[1;32m    877\u001b[0m \u001b[43m            \u001b[49m\u001b[43merrors\u001b[49m\u001b[38;5;241;43m=\u001b[39;49m\u001b[43merrors\u001b[49m\u001b[43m,\u001b[49m\n\u001b[1;32m    878\u001b[0m \u001b[43m            \u001b[49m\u001b[43mnewline\u001b[49m\u001b[38;5;241;43m=\u001b[39;49m\u001b[38;5;124;43m\"\u001b[39;49m\u001b[38;5;124;43m\"\u001b[39;49m\u001b[43m,\u001b[49m\n\u001b[1;32m    879\u001b[0m \u001b[43m        \u001b[49m\u001b[43m)\u001b[49m\n\u001b[1;32m    880\u001b[0m     \u001b[38;5;28;01melse\u001b[39;00m:\n\u001b[1;32m    881\u001b[0m         \u001b[38;5;66;03m# Binary mode\u001b[39;00m\n\u001b[1;32m    882\u001b[0m         handle \u001b[38;5;241m=\u001b[39m \u001b[38;5;28mopen\u001b[39m(handle, ioargs\u001b[38;5;241m.\u001b[39mmode)\n",
      "\u001b[0;31mFileNotFoundError\u001b[0m: [Errno 2] No such file or directory: 'binance_data/BTC_Cross_Currencies/2025/1m/merged_closing_prices.csv'"
     ]
    }
   ],
   "source": [
    "#prices = pd.read_csv(\"binance_data/Wrapped BTC/2024/30m/merged_closing_prices.csv\", index_col=0, parse_dates=True)\n",
    "\n",
    "#prices = pd.read_csv(\"binance_data/Staked_ETH_Bybit/merged_closing_prices.csv\", index_col=0, parse_dates=True)\n",
    "\n",
    "#prices = pd.read_csv(\"binance_data/From_Paper/2023/1m/merged_From_Paper_closing_prices_OCT_NOV.csv\", index_col=0, parse_dates=True)\n",
    "\n",
    "prices = pd.read_csv('binance_data/BTC_Cross_Currencies/2025/1m/merged_closing_prices.csv', index_col=0, parse_dates=True)"
   ]
  },
  {
   "cell_type": "code",
   "execution_count": 9,
   "metadata": {},
   "outputs": [],
   "source": [
    "#get prices for dates greater than or equal to 2024-01-01 16:30:00\t\n",
    "\n",
    "#prices = prices.loc[prices.index >= \"2024-01-01 16:30:00\"]"
   ]
  },
  {
   "cell_type": "markdown",
   "metadata": {},
   "source": [
    "# Trading simulation\n",
    "---"
   ]
  },
  {
   "cell_type": "markdown",
   "metadata": {},
   "source": [
    "* ## In-Sample Testing"
   ]
  },
  {
   "cell_type": "code",
   "execution_count": 10,
   "metadata": {},
   "outputs": [],
   "source": [
    "#XVS/USDT_2024_30m & QI/USDT_2024_30m\n",
    "\n",
    "\n",
    "crypto_1 = prices.columns[0]\n",
    "crypto_2 = prices.columns[1]\n",
    "\n",
    "cointegrated_pairs = [(crypto_1,\n",
    "  crypto_2,\n",
    "  0.731393,\n",
    "  0.8501886494196308,\n",
    "  0.22)]"
   ]
  },
  {
   "cell_type": "code",
   "execution_count": 11,
   "metadata": {},
   "outputs": [],
   "source": [
    "#Params:\n",
    "window_size = 1440\n",
    "entry_threshold= 2\n",
    "exit_threshold=0\n",
    "stop_loss_threshold= 100"
   ]
  },
  {
   "cell_type": "code",
   "execution_count": 12,
   "metadata": {},
   "outputs": [
    {
     "name": "stdout",
     "output_type": "stream",
     "text": [
      "\n",
      "Testing strategy on pair: BTCEUR_2025_1m and BTCJPY_2025_1m ...\n",
      "Total trades closed: 219 (Wins=219, Losses=0)\n",
      "Win rate: 1.00\n"
     ]
    }
   ],
   "source": [
    "sym1, sym2 = prices.columns\n",
    "print(f\"\\nTesting strategy on pair: {sym1} and {sym2} ...\")\n",
    "S1 = prices[sym1]\n",
    "S2 = prices[sym2]\n",
    "\n",
    "# Compute the spread series and beta_series \n",
    "spread_series, beta_series, alpha_series = compute_spread_series(S1, S2, window_size)\n",
    "#print(f\"Hedge ratio (beta) for {sym1} ~ {sym2}: {beta:.4f}\")\n",
    "\n",
    "# Compute rolling z-score using the provided helper function.\n",
    "zscore_series, rolling_mean, rolling_std = compute_rolling_zscore(spread_series, window_size)\n",
    "\n",
    "# Generate trading signals (positions) based on the spread's z-score\n",
    "positions, trade_entries, trade_exits, price_changes_S1, price_changes_S2 = backtest_pair_rolling(spread_series,S1,S2,zscore_series, entry_threshold, exit_threshold, stop_loss_threshold)\n",
    "\n"
   ]
  },
  {
   "cell_type": "code",
   "execution_count": 13,
   "metadata": {},
   "outputs": [],
   "source": [
    "# plt.hist(zscore_series, bins=50)"
   ]
  },
  {
   "cell_type": "code",
   "execution_count": 14,
   "metadata": {},
   "outputs": [],
   "source": [
    "# #Compute normalised difference between the two prices\n",
    "# normalised_abs_diff = np.abs((S1 - S2) / (S1 + S2))\n",
    "\n",
    "# #Compute the average normalised difference\n",
    "# np.mean(normalised_abs_diff)"
   ]
  },
  {
   "cell_type": "code",
   "execution_count": 15,
   "metadata": {},
   "outputs": [],
   "source": [
    "# #SETH and ETH Distance: 0.0003968226419110906\n",
    "\n",
    "# s_eth_distance = 0.0003968226419110906\n",
    "# w_bitcoin_distance = 0.0006442955592394416\n",
    "\n",
    "# percentage = s_eth_distance/w_bitcoin_distance * 100\n",
    "# percentage\n"
   ]
  },
  {
   "cell_type": "code",
   "execution_count": 16,
   "metadata": {},
   "outputs": [],
   "source": [
    "# sym1"
   ]
  },
  {
   "cell_type": "code",
   "execution_count": 17,
   "metadata": {},
   "outputs": [],
   "source": [
    "# price_changes_S1_non_zero = [x for x in price_changes_S1 if x != 0]\n",
    "# price_changes_S2_non_zero = [x for x in price_changes_S2 if x != 0]\n",
    "\n",
    "# len(price_changes_S2_non_zero)"
   ]
  },
  {
   "cell_type": "code",
   "execution_count": 18,
   "metadata": {},
   "outputs": [
    {
     "data": {
      "text/plain": [
       "timestamp\n",
       "2025-01-01 00:00:00    90206.04\n",
       "2025-01-01 00:01:00    90270.49\n",
       "2025-01-01 00:02:00    90329.12\n",
       "2025-01-01 00:03:00    90302.77\n",
       "2025-01-01 00:04:00    90291.57\n",
       "                         ...   \n",
       "2025-02-28 23:55:00    81388.21\n",
       "2025-02-28 23:56:00    81375.96\n",
       "2025-02-28 23:57:00    81340.23\n",
       "2025-02-28 23:58:00    81365.07\n",
       "2025-02-28 23:59:00    81315.68\n",
       "Name: BTCEUR_2025_1m, Length: 84960, dtype: float64"
      ]
     },
     "execution_count": 18,
     "metadata": {},
     "output_type": "execute_result"
    }
   ],
   "source": [
    "S1"
   ]
  },
  {
   "cell_type": "code",
   "execution_count": 33,
   "metadata": {},
   "outputs": [
    {
     "name": "stdout",
     "output_type": "stream",
     "text": [
      "Total trades: 219\n",
      "Number of profitable trades (proft > 0): 126\n",
      "Number of non-profitable trades (proft < 0): 93\n",
      "Total return €: 221.47\n",
      "Total return %: 2.21%\n",
      "Long spread losses: 41, Short spread losses: 52\n",
      "Number of Dual-leg profitable trades: 47\n",
      "Dual leg trade profit rate: 21.46%\n"
     ]
    }
   ],
   "source": [
    "initial_capital = 10_000.0\n",
    "#tx_cost= 0.00031 #0.031% transaction cost\n",
    "tx_cost= 0 #0.025% transaction cost #Binance level 5 Maker Cost\n",
    "\n",
    "trade_profits, cumulative_profit_series, entry_times, exit_times = simulate_strategy_trade_pnl(trade_entries, trade_exits, initial_capital, beta_series, tx_cost)"
   ]
  },
  {
   "cell_type": "code",
   "execution_count": 34,
   "metadata": {},
   "outputs": [
    {
     "data": {
      "text/plain": [
       "[<matplotlib.lines.Line2D at 0x120cace10>]"
      ]
     },
     "execution_count": 34,
     "metadata": {},
     "output_type": "execute_result"
    },
    {
     "data": {
      "image/png": "[encoded data removed]",
      "text/plain": [
       "<Figure size 640x480 with 1 Axes>"
      ]
     },
     "metadata": {},
     "output_type": "display_data"
    }
   ],
   "source": [
    "plt.plot(cumulative_profit_series)"
   ]
  },
  {
   "cell_type": "code",
   "execution_count": 21,
   "metadata": {},
   "outputs": [
    {
     "data": {
      "text/plain": [
       "(array([ 1.,  0.,  0.,  0.,  0.,  0.,  0.,  1.,  0.,  1.,  0.,  0.,  0.,\n",
       "         1.,  1.,  0.,  0.,  1.,  0.,  0.,  0.,  0.,  0.,  1.,  0.,  0.,\n",
       "         0.,  0.,  1.,  0.,  1.,  2.,  2.,  1.,  1.,  0.,  1.,  1.,  0.,\n",
       "         4.,  0.,  1.,  4.,  1.,  5.,  0.,  4.,  5.,  2.,  7.,  4., 12.,\n",
       "         7., 18., 21., 15., 16., 11.,  8.,  3.,  7.,  9.,  7.,  3.,  5.,\n",
       "         1.,  2.,  0.,  0.,  2.,  0.,  2.,  2.,  0.,  0.,  1.,  4.,  0.,\n",
       "         1.,  0.,  0.,  1.,  2.,  1.,  0.,  2.,  0.,  1.,  0.,  0.,  0.,\n",
       "         0.,  0.,  0.,  0.,  0.,  0.,  0.,  0.,  1.]),\n",
       " array([-323.6720594 , -317.80649897, -311.94093855, -306.07537812,\n",
       "        -300.20981769, -294.34425726, -288.47869683, -282.6131364 ,\n",
       "        -276.74757597, -270.88201555, -265.01645512, -259.15089469,\n",
       "        -253.28533426, -247.41977383, -241.5542134 , -235.68865297,\n",
       "        -229.82309255, -223.95753212, -218.09197169, -212.22641126,\n",
       "        -206.36085083, -200.4952904 , -194.62972998, -188.76416955,\n",
       "        -182.89860912, -177.03304869, -171.16748826, -165.30192783,\n",
       "        -159.4363674 , -153.57080698, -147.70524655, -141.83968612,\n",
       "        -135.97412569, -130.10856526, -124.24300483, -118.3774444 ,\n",
       "        -112.51188398, -106.64632355, -100.78076312,  -94.91520269,\n",
       "         -89.04964226,  -83.18408183,  -77.3185214 ,  -71.45296098,\n",
       "         -65.58740055,  -59.72184012,  -53.85627969,  -47.99071926,\n",
       "         -42.12515883,  -36.2595984 ,  -30.39403798,  -24.52847755,\n",
       "         -18.66291712,  -12.79735669,   -6.93179626,   -1.06623583,\n",
       "           4.7993246 ,   10.66488502,   16.53044545,   22.39600588,\n",
       "          28.26156631,   34.12712674,   39.99268717,   45.8582476 ,\n",
       "          51.72380802,   57.58936845,   63.45492888,   69.32048931,\n",
       "          75.18604974,   81.05161017,   86.91717059,   92.78273102,\n",
       "          98.64829145,  104.51385188,  110.37941231,  116.24497274,\n",
       "         122.11053317,  127.97609359,  133.84165402,  139.70721445,\n",
       "         145.57277488,  151.43833531,  157.30389574,  163.16945617,\n",
       "         169.03501659,  174.90057702,  180.76613745,  186.63169788,\n",
       "         192.49725831,  198.36281874,  204.22837917,  210.09393959,\n",
       "         215.95950002,  221.82506045,  227.69062088,  233.55618131,\n",
       "         239.42174174,  245.28730217,  251.15286259,  257.01842302,\n",
       "         262.88398345]),\n",
       " <BarContainer object of 100 artists>)"
      ]
     },
     "execution_count": 21,
     "metadata": {},
     "output_type": "execute_result"
    },
    {
     "data": {
      "image/png": "[encoded data removed]",
      "text/plain": [
       "<Figure size 640x480 with 1 Axes>"
      ]
     },
     "metadata": {},
     "output_type": "display_data"
    }
   ],
   "source": [
    "plt.hist(trade_profits, bins=100)"
   ]
  },
  {
   "cell_type": "code",
   "execution_count": 22,
   "metadata": {},
   "outputs": [
    {
     "name": "stdout",
     "output_type": "stream",
     "text": [
      "Average trade loss:  € -48.98839798949971\n",
      "Average trade win:  € 45.77158040862044\n",
      "Number of negative profits(profits that were less than the transaction cost):  115\n",
      "Number of positive profits (profits that were greater than the transaction cost):  104\n"
     ]
    }
   ],
   "source": [
    "#Filter for negative values\n",
    "\n",
    "trade_profits_neg = [x for x in trade_profits if x < 0]\n",
    "print(f\"Average trade loss:  € {np.mean(trade_profits_neg)}\")\n",
    "\n",
    "trade_profits_pos = [x for x in trade_profits if x > 0]\n",
    "print(f\"Average trade win:  € {np.mean(trade_profits_pos)}\")\n",
    "\n",
    "print(\"Number of negative profits(profits that were less than the transaction cost): \", len(trade_profits_neg))\n",
    "print(\"Number of positive profits (profits that were greater than the transaction cost): \", len(trade_profits_pos))\n",
    "\n"
   ]
  },
  {
   "cell_type": "code",
   "execution_count": 23,
   "metadata": {},
   "outputs": [],
   "source": [
    "# #Calculate returns based on the trade profits\n",
    "# trade_profits = np.array(trade_profits)\n",
    "# returns = trade_profits/initial_capital * 100\n",
    "\n",
    "# #Plot the returns\n",
    "# plt.hist(returns, bins=50, edgecolor='black')\n",
    "# plt.xlabel('Returns (%)')   \n",
    "# plt.ylabel('Frequency')\n",
    "# plt.title(f'Returns Distribution for Pair {sym1} and {sym2}') "
   ]
  },
  {
   "cell_type": "code",
   "execution_count": 24,
   "metadata": {},
   "outputs": [],
   "source": [
    "# #Calculate percentage price changes for each asset\n",
    "# price_changes_S1 = np.array(price_changes_S1)"
   ]
  },
  {
   "cell_type": "code",
   "execution_count": 25,
   "metadata": {},
   "outputs": [],
   "source": [
    "# #Obtain non-zero price changes\n",
    "# price_changes_S1_non_zero = [x for x in price_changes_S1 if x != 0]\n",
    "# price_changes_S2_non_zero = [x for x in price_changes_S2 if x != 0]\n",
    "\n",
    "# #Convert price changes to percentage\n",
    "# price_changes_S1_non_zero_percent = [(x*100) for x in price_changes_S1_non_zero]\n",
    "# price_changes_S2_non_zero_percent = [(x*100) for x in price_changes_S2_non_zero]\n",
    "\n",
    "# #Print average price changes\n",
    "# print(f\"Average price change S1: {np.mean(price_changes_S1_non_zero_percent)} %\", f\"Average price change S1: {np.mean(price_changes_S2_non_zero_percent)} %\")\n",
    "# print(f\"Number of trades: {len(price_changes_S1_non_zero)}\")"
   ]
  },
  {
   "cell_type": "code",
   "execution_count": 26,
   "metadata": {},
   "outputs": [],
   "source": [
    "# percentage_return = cumulative_profit_series[-1]/initial_capital * 100\n",
    "# print(f\"Percentage return: {percentage_return:.2f} %\")\n",
    "\n",
    "\n",
    "# #PROFIT SHOULD BE 0.15 EUR\n",
    "\n",
    "# plt.figure(figsize=(10,6))\n",
    "# plt.plot(cumulative_profit_series)\n",
    "# plt.title('Cumulative PnL')\n",
    "# plt.xlabel('Time')\n",
    "# plt.ylabel('PnL (EUR)')\n",
    "# plt.show()"
   ]
  },
  {
   "cell_type": "code",
   "execution_count": 27,
   "metadata": {},
   "outputs": [
    {
     "name": "stdout",
     "output_type": "stream",
     "text": [
      "Number of trade entries: 0\n",
      "Number of trade exits: 0\n",
      "Total paired trades: 0\n",
      "Trades in window:\n"
     ]
    },
    {
     "data": {
      "image/png": "[encoded data removed]",
      "text/plain": [
       "<Figure size 1500x2000 with 5 Axes>"
      ]
     },
     "metadata": {},
     "output_type": "display_data"
    }
   ],
   "source": [
    "#Plot trading simulation\n",
    "window_start = pd.to_datetime('2023-10-03 00:00:00')\n",
    "window_end = pd.to_datetime('2023-10-03 20:00:00')\n",
    "\n",
    "\n",
    "# window_start = pd.to_datetime('2024-03-05 08:00:00')\n",
    "# window_end = pd.to_datetime('2024-03-08 15:00:00')\n",
    "\n",
    "# window_start = None\n",
    "# window_end = None\n",
    "\n",
    "#NOTE THAT THE TIMES ON THE X AXIS SHOW THE HOURS AND MINUTES\n",
    "\n",
    "plot_trading_simulation(\n",
    "    S1, \n",
    "    S2, \n",
    "    sym1, \n",
    "    sym2, \n",
    "    zscore_series, \n",
    "    positions, \n",
    "    entry_threshold,\n",
    "    stop_loss_threshold,\n",
    "    trade_entries=trade_entries,  # list of dicts: { 'time', 'S1', 'S2', 'z', 'position' }\n",
    "    trade_exits=trade_exits,    # list of dicts: { 'time', 'S1', 'S2', 'z', 'exit_type' }\n",
    "    window_start=window_start,\n",
    "    window_end=window_end\n",
    ")\n",
    "\n"
   ]
  },
  {
   "cell_type": "code",
   "execution_count": 28,
   "metadata": {},
   "outputs": [],
   "source": [
    "z = 0.1\n",
    "\n",
    "if z < -0:\n",
    "    print(\"Short\")"
   ]
  },
  {
   "cell_type": "code",
   "execution_count": 29,
   "metadata": {},
   "outputs": [],
   "source": [
    "\n",
    "\n",
    "# #Get prices at the start and end of the first trade\n",
    "# S1_price_start = S1[entry_indices]\n",
    "# S2_price_start = S2[entry_indices]\n",
    "\n",
    "# S1_price_end = S1.loc[exit_indices]\n",
    "# S2_price_end = S2.loc[exit_indices]\n",
    "\n",
    "\n",
    "# #Calculate the price changes by converting the series to numpy arrays\n",
    "# S1_price_start = S1_price_start.to_numpy()\n",
    "# S2_price_start = S2_price_start.to_numpy()\n",
    "\n",
    "# S1_price_end = S1_price_end.to_numpy()\n",
    "# S2_price_end = S2_price_end.to_numpy()\n",
    "\n",
    "# print(\"BEFORE ALIGNMENT\")\n",
    "\n",
    "# #Make sure the arrays have the same shape\n",
    "# print(S1_price_start.shape)\n",
    "# print(S2_price_start.shape)\n",
    "\n",
    "\n",
    "# print(S1_price_end.shape)\n",
    "# print(S2_price_end.shape)\n",
    "\n",
    "\n",
    "# if S1_price_start.shape > S1_price_end.shape:\n",
    "#     S1_price_start = S1_price_start[:len(S1_price_end)]\n",
    "\n",
    "# if S2_price_start.shape > S2_price_end.shape:\n",
    "#     S2_price_start = S2_price_start[:len(S2_price_end)]\n",
    " \n",
    "# print(\"AFTER ALIGNMENT\")\n",
    "\n",
    "# #Make sure the arrays have the same shape\n",
    "# print(S1_price_start.shape)\n",
    "# print(S2_price_start.shape)\n",
    "\n",
    "# print(S1_price_end.shape)\n",
    "# print(S2_price_end.shape)\n",
    "\n",
    "# #Get the price changes\n",
    "# S1_price_change = S1_price_end - S1_price_start\n",
    "# S2_price_change = S2_price_end - S2_price_start\n",
    "\n",
    "# #Get percentage price changes\n",
    "# S1_price_change_percent = S1_price_change/S1_price_start * 100\n",
    "# S2_price_change_percent = S2_price_change/S2_price_start * 100\n",
    "\n",
    "# #Get absolute percentage price changes\n",
    "# S1_price_change_percent_abs = np.abs(S1_price_change_percent)\n",
    "# S2_price_change_percent_abs = np.abs(S2_price_change_percent)\n",
    "\n",
    "\n",
    "# print(f\"Average absolute S1 price change percent: {np.mean(S1_price_change_percent_abs):.2f}%\")\n",
    "# print(f\"Average absolute S2 price change percent: {np.mean(S2_price_change_percent_abs):.2f}%\")\n",
    "\n",
    "# print(f\"Average of average absolute price changes: {(np.mean(S1_price_change_percent_abs) + np.mean(S2_price_change_percent_abs))/2:.2f}%\")\n",
    "\n",
    "\n",
    "\n",
    "# # #Get the price changes\n",
    "# # S1_price_change = S1_price_end - S1_price_start\n",
    "# # S2_price_change = S2_price_end - S2_price_start\n"
   ]
  },
  {
   "cell_type": "code",
   "execution_count": 30,
   "metadata": {},
   "outputs": [],
   "source": [
    "#Print average S1 price change percent rounded to 2 decimal places\n",
    "\n",
    "#Average Absolute Percentage Reversion\n",
    "#---------------------------------------\n"
   ]
  },
  {
   "cell_type": "code",
   "execution_count": 31,
   "metadata": {},
   "outputs": [],
   "source": [
    "\n",
    "def calculate_avg_abs_pct_reversion(trade_entries, trade_exits):\n",
    "    \"\"\"\n",
    "    Calculate the average absolute percentage reversion from trade entry to trade exit\n",
    "    for both asset price series (S1 and S2), using the interpolated trade data.\n",
    "    \n",
    "    Args:\n",
    "        trade_entries (list): List of dictionaries for trade entries.\n",
    "            Each dict should have keys: 'time', 'S1', 'S2', 'z', 'position'\n",
    "        trade_exits (list): List of dictionaries for trade exits.\n",
    "            Each dict should have keys: 'time', 'S1', 'S2', 'z', 'exit_type'\n",
    "    \n",
    "    Returns:\n",
    "        overall_avg (float): The average of the average absolute percentage changes for S1 and S2.\n",
    "    \"\"\"\n",
    "    S1_pct_changes = []\n",
    "    S2_pct_changes = []\n",
    "    \n",
    "    # Loop over paired trade entries and exits.\n",
    "    for entry, exit in zip(trade_entries, trade_exits):\n",
    "        entry_S1 = entry['S1']\n",
    "        entry_S2 = entry['S2']\n",
    "        exit_S1 = exit['S1']\n",
    "        exit_S2 = exit['S2']\n",
    "        \n",
    "        # Calculate absolute percentage change for each asset.\n",
    "        pct_change_S1 = np.abs((exit_S1 - entry_S1) / entry_S1 * 100)\n",
    "        pct_change_S2 = np.abs((exit_S2 - entry_S2) / entry_S2 * 100)\n",
    "        \n",
    "        S1_pct_changes.append(pct_change_S1)\n",
    "        S2_pct_changes.append(pct_change_S2)\n",
    "    \n",
    "    # Compute the average absolute percentage change for S1 and S2.\n",
    "    avg_abs_S1 = np.mean(S1_pct_changes) if S1_pct_changes else 0\n",
    "    avg_abs_S2 = np.mean(S2_pct_changes) if S2_pct_changes else 0\n",
    "    \n",
    "    # Overall average is the average of the two.\n",
    "    overall_avg = (avg_abs_S1 + avg_abs_S2) / 2\n",
    "    \n",
    "    print(f\"Average absolute S1 price change percent: {avg_abs_S1:.2f}%\")\n",
    "    print(f\"Average absolute S2 price change percent: {avg_abs_S2:.2f}%\")\n",
    "    print(f\"Average of average absolute price changes: {overall_avg:.2f}%\")\n",
    "    \n",
    "    return overall_avg\n",
    "\n"
   ]
  },
  {
   "cell_type": "code",
   "execution_count": 32,
   "metadata": {},
   "outputs": [
    {
     "name": "stdout",
     "output_type": "stream",
     "text": [
      "Average absolute S1 price change percent: 0.48%\n",
      "Average absolute S2 price change percent: 0.53%\n",
      "Average of average absolute price changes: 0.51%\n"
     ]
    }
   ],
   "source": [
    "overall_avg_reversion = calculate_avg_abs_pct_reversion(trade_entries, trade_exits)"
   ]
  }
 ],
 "metadata": {
  "kernelspec": {
   "display_name": "main_conda_env",
   "language": "python",
   "name": "python3"
  },
  "language_info": {
   "codemirror_mode": {
    "name": "ipython",
    "version": 3
   },
   "file_extension": ".py",
   "mimetype": "text/x-python",
   "name": "python",
   "nbconvert_exporter": "python",
   "pygments_lexer": "ipython3",
   "version": "3.13.1"
  }
 },
 "nbformat": 4,
 "nbformat_minor": 2
}
