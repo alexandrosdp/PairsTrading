{
 "cells": [
  {
   "cell_type": "code",
   "execution_count": 162,
   "metadata": {},
   "outputs": [],
   "source": [
    "from data_pre_processing import *\n",
    "from pair_finder import *\n",
    "from back_tester import *\n",
    "import itertools"
   ]
  },
  {
   "cell_type": "markdown",
   "metadata": {},
   "source": [
    "# Get Data \n",
    "---"
   ]
  },
  {
   "cell_type": "code",
   "execution_count": 163,
   "metadata": {},
   "outputs": [],
   "source": [
    "#XVS/USDT_2024_30m & QI/USDT_2024_30m"
   ]
  },
  {
   "cell_type": "code",
   "execution_count": 164,
   "metadata": {},
   "outputs": [],
   "source": [
    "prices = pd.read_csv(\"binance_data/Wrapped BTC/2024/30m/merged_closing_prices.csv\", index_col=0, parse_dates=True)"
   ]
  },
  {
   "cell_type": "code",
   "execution_count": 165,
   "metadata": {},
   "outputs": [
    {
     "data": {
      "text/html": [
       "<div>\n",
       "<style scoped>\n",
       "    .dataframe tbody tr th:only-of-type {\n",
       "        vertical-align: middle;\n",
       "    }\n",
       "\n",
       "    .dataframe tbody tr th {\n",
       "        vertical-align: top;\n",
       "    }\n",
       "\n",
       "    .dataframe thead th {\n",
       "        text-align: right;\n",
       "    }\n",
       "</style>\n",
       "<table border=\"1\" class=\"dataframe\">\n",
       "  <thead>\n",
       "    <tr style=\"text-align: right;\">\n",
       "      <th></th>\n",
       "      <th>BTC/USDT_2024_30m</th>\n",
       "      <th>WBTC/USDT_2024_30m</th>\n",
       "    </tr>\n",
       "    <tr>\n",
       "      <th>timestamp</th>\n",
       "      <th></th>\n",
       "      <th></th>\n",
       "    </tr>\n",
       "  </thead>\n",
       "  <tbody>\n",
       "    <tr>\n",
       "      <th>2024-01-01 00:00:00</th>\n",
       "      <td>42419.73</td>\n",
       "      <td>42394.30</td>\n",
       "    </tr>\n",
       "    <tr>\n",
       "      <th>2024-01-01 00:30:00</th>\n",
       "      <td>42475.23</td>\n",
       "      <td>42444.16</td>\n",
       "    </tr>\n",
       "    <tr>\n",
       "      <th>2024-01-01 01:00:00</th>\n",
       "      <td>42493.16</td>\n",
       "      <td>42431.64</td>\n",
       "    </tr>\n",
       "    <tr>\n",
       "      <th>2024-01-01 01:30:00</th>\n",
       "      <td>42613.56</td>\n",
       "      <td>42616.90</td>\n",
       "    </tr>\n",
       "    <tr>\n",
       "      <th>2024-01-01 02:00:00</th>\n",
       "      <td>42546.01</td>\n",
       "      <td>42458.23</td>\n",
       "    </tr>\n",
       "    <tr>\n",
       "      <th>...</th>\n",
       "      <td>...</td>\n",
       "      <td>...</td>\n",
       "    </tr>\n",
       "    <tr>\n",
       "      <th>2024-12-31 21:30:00</th>\n",
       "      <td>93899.68</td>\n",
       "      <td>93748.37</td>\n",
       "    </tr>\n",
       "    <tr>\n",
       "      <th>2024-12-31 22:00:00</th>\n",
       "      <td>93722.23</td>\n",
       "      <td>93553.89</td>\n",
       "    </tr>\n",
       "    <tr>\n",
       "      <th>2024-12-31 22:30:00</th>\n",
       "      <td>93488.84</td>\n",
       "      <td>93329.48</td>\n",
       "    </tr>\n",
       "    <tr>\n",
       "      <th>2024-12-31 23:00:00</th>\n",
       "      <td>93731.05</td>\n",
       "      <td>93578.00</td>\n",
       "    </tr>\n",
       "    <tr>\n",
       "      <th>2024-12-31 23:30:00</th>\n",
       "      <td>93576.00</td>\n",
       "      <td>93443.93</td>\n",
       "    </tr>\n",
       "  </tbody>\n",
       "</table>\n",
       "<p>17565 rows × 2 columns</p>\n",
       "</div>"
      ],
      "text/plain": [
       "                     BTC/USDT_2024_30m  WBTC/USDT_2024_30m\n",
       "timestamp                                                 \n",
       "2024-01-01 00:00:00           42419.73            42394.30\n",
       "2024-01-01 00:30:00           42475.23            42444.16\n",
       "2024-01-01 01:00:00           42493.16            42431.64\n",
       "2024-01-01 01:30:00           42613.56            42616.90\n",
       "2024-01-01 02:00:00           42546.01            42458.23\n",
       "...                                ...                 ...\n",
       "2024-12-31 21:30:00           93899.68            93748.37\n",
       "2024-12-31 22:00:00           93722.23            93553.89\n",
       "2024-12-31 22:30:00           93488.84            93329.48\n",
       "2024-12-31 23:00:00           93731.05            93578.00\n",
       "2024-12-31 23:30:00           93576.00            93443.93\n",
       "\n",
       "[17565 rows x 2 columns]"
      ]
     },
     "execution_count": 165,
     "metadata": {},
     "output_type": "execute_result"
    }
   ],
   "source": [
    "prices"
   ]
  },
  {
   "cell_type": "markdown",
   "metadata": {},
   "source": [
    "# Trading simulation\n",
    "---"
   ]
  },
  {
   "cell_type": "markdown",
   "metadata": {},
   "source": [
    "* ## In-Sample Testing"
   ]
  },
  {
   "cell_type": "code",
   "execution_count": 166,
   "metadata": {},
   "outputs": [],
   "source": [
    "#XVS/USDT_2024_30m & QI/USDT_2024_30m\n",
    "cointegrated_pairs = [('BTC/USDT_2024_30m',\n",
    "  'WBTC/USDT_2024_30m',\n",
    "  0.731393,\n",
    "  0.8501886494196308,\n",
    "  0.22)]"
   ]
  },
  {
   "cell_type": "code",
   "execution_count": 167,
   "metadata": {},
   "outputs": [],
   "source": [
    "#Params:\n",
    "window_size = 336\n",
    "entry_threshold=3.0 \n",
    "exit_threshold=0.1 \n",
    "stop_loss_threshold= 4.0"
   ]
  },
  {
   "cell_type": "code",
   "execution_count": 168,
   "metadata": {},
   "outputs": [
    {
     "name": "stdout",
     "output_type": "stream",
     "text": [
      "\n",
      "Testing strategy on pair: BTC/USDT_2024_30m and WBTC/USDT_2024_30m (pass_fractioon: 0.7314,average_p_value: 0.8502 correlation: 0.2200)\n",
      "Total trades closed: 89 (Wins=79, Losses=10)\n",
      "Win rate: 0.89\n"
     ]
    }
   ],
   "source": [
    "if cointegrated_pairs:\n",
    "        sym1, sym2, pass_fraction, avg_p_value,correlation = cointegrated_pairs[0]\n",
    "        print(f\"\\nTesting strategy on pair: {sym1} and {sym2} (pass_fractioon: {pass_fraction:.4f},average_p_value: {avg_p_value:.4f} correlation: {correlation:.4f})\")\n",
    "        S1 = prices[sym1]\n",
    "        S2 = prices[sym2]\n",
    "        \n",
    "        # Compute the spread series and beta_series \n",
    "        spread_series, beta_series, alpha_series = compute_spread_series(S1, S2, window_size)\n",
    "        #print(f\"Hedge ratio (beta) for {sym1} ~ {sym2}: {beta:.4f}\")\n",
    "        \n",
    "        # Compute rolling z-score using the provided helper function.\n",
    "        zscore_series, rolling_mean, rolling_std = compute_rolling_zscore(spread_series, window_size)\n",
    "        \n",
    "        # Generate trading signals (positions) based on the spread's z-score\n",
    "        positions_series,  win_indexs, loss_indexs, price_changes_S1, price_changes_S2 = backtest_pair_rolling(spread_series,S1,S2,zscore_series, entry_threshold, exit_threshold, stop_loss_threshold)\n",
    "        \n",
    "        #Simulate strategy performance\n",
    "        #pnl, cum_pnl = simulate_strategy(S1, S2, positions, beta)\n",
    "        \n",
    "        #pnl, cum_pnl = simulate_true_strategy_rolling(S1, S2, positions_series, beta_series)\n",
    "        "
   ]
  },
  {
   "cell_type": "code",
   "execution_count": 187,
   "metadata": {},
   "outputs": [],
   "source": [
    "trade_profits, entry_indices, exit_indices = simulate_strategy_trade_pnl(S1, S2, positions_series, beta_series, initial_capital=10_000000.0)"
   ]
  },
  {
   "cell_type": "code",
   "execution_count": 188,
   "metadata": {},
   "outputs": [
    {
     "name": "stdout",
     "output_type": "stream",
     "text": [
      "15153.627422702979\n"
     ]
    }
   ],
   "source": [
    "#filter profits by positive values\n",
    "trade_profits = [x for x in trade_profits if x > 0]\n",
    "print(np.mean(trade_profits))"
   ]
  },
  {
   "cell_type": "code",
   "execution_count": 189,
   "metadata": {},
   "outputs": [
    {
     "data": {
      "text/plain": [
       "[<matplotlib.lines.Line2D at 0x133e83b10>]"
      ]
     },
     "execution_count": 189,
     "metadata": {},
     "output_type": "execute_result"
    },
    {
     "data": {
      "image/png": "[encoded data removed]",
      "text/plain": [
       "<Figure size 640x480 with 1 Axes>"
      ]
     },
     "metadata": {},
     "output_type": "display_data"
    }
   ],
   "source": [
    "plt.plot(trade_profits)"
   ]
  },
  {
   "cell_type": "code",
   "execution_count": 172,
   "metadata": {},
   "outputs": [],
   "source": [
    "# daily_pnl_series, cum_pnl_series, cum_pnl_pct_series, shares_S1_list, shares_S2_list = simulate_strategy_pnl(S1, S2, positions_series, beta_series=beta_series, initial_capital=1_000)\n",
    "\n",
    "# print(f\"Total PnL: {cum_pnl_series[-1]:.2f} EUR\")\n",
    "# print(f\"Total PnL (%): {cum_pnl_pct_series[-1]:.2f}%\")\n"
   ]
  },
  {
   "cell_type": "code",
   "execution_count": 173,
   "metadata": {},
   "outputs": [
    {
     "name": "stdout",
     "output_type": "stream",
     "text": [
      "Average price change S1: -0.016463855746284672 % Average price change S1: 0.2729468736880369 %\n",
      "Number of trades: 88\n"
     ]
    }
   ],
   "source": [
    "#Obtain non-zero price changes\n",
    "price_changes_S1_non_zero = [x for x in price_changes_S1 if x != 0]\n",
    "price_changes_S2_non_zero = [x for x in price_changes_S2 if x != 0]\n",
    "\n",
    "#Convert price changes to percentage\n",
    "price_changes_S1_non_zero_percent = [(x*100) for x in price_changes_S1_non_zero]\n",
    "price_changes_S2_non_zero_percent = [(x*100) for x in price_changes_S2_non_zero]\n",
    "\n",
    "#Print average price changes\n",
    "print(f\"Average price change S1: {np.mean(price_changes_S1_non_zero_percent)} %\", f\"Average price change S1: {np.mean(price_changes_S2_non_zero_percent)} %\")\n",
    "print(f\"Number of trades: {len(price_changes_S1_non_zero)}\")"
   ]
  },
  {
   "cell_type": "code",
   "execution_count": 174,
   "metadata": {},
   "outputs": [
    {
     "data": {
      "text/plain": [
       "17565"
      ]
     },
     "execution_count": 174,
     "metadata": {},
     "output_type": "execute_result"
    }
   ],
   "source": [
    "len(S1)"
   ]
  },
  {
   "cell_type": "code",
   "execution_count": 175,
   "metadata": {},
   "outputs": [],
   "source": [
    "# len(daily_pnl_series)"
   ]
  },
  {
   "cell_type": "code",
   "execution_count": 176,
   "metadata": {},
   "outputs": [],
   "source": [
    "# #Plot the cumulative PnL\n",
    "\n",
    "# print(f\"Average daily PnL (BY EXLUDING THE 0 ENTRIES): {daily_pnl_series[daily_pnl_series != 0].mean():.2f} EUR\")\n",
    "# print(f\"Average daily PnL (%): {daily_pnl_series[daily_pnl_series != 0].mean() / 1000:.2f}%\")\n",
    "\n",
    "# #PROFIT SHOULD BE 0.15 EUR\n",
    "\n",
    "# plt.figure(figsize=(10,6))\n",
    "# plt.plot(cum_pnl_series)\n",
    "# plt.title('Cumulative PnL')\n",
    "# plt.xlabel('Time')\n",
    "# plt.ylabel('PnL (EUR)')\n",
    "# plt.show()"
   ]
  },
  {
   "cell_type": "code",
   "execution_count": 177,
   "metadata": {},
   "outputs": [],
   "source": [
    "# daily_pnl_series_non_zero = [x for x in daily_pnl_series if x != 0]\n",
    "# daily_pnl_series_non_zero"
   ]
  },
  {
   "cell_type": "code",
   "execution_count": 178,
   "metadata": {},
   "outputs": [],
   "source": [
    "# plt.plot(daily_pnl_series)"
   ]
  },
  {
   "cell_type": "code",
   "execution_count": 179,
   "metadata": {},
   "outputs": [],
   "source": [
    "# #Sum profits that dont equal zero\n",
    "\n",
    "# daily_pnl_series[daily_pnl_series != 0].mean()\n"
   ]
  },
  {
   "cell_type": "code",
   "execution_count": 180,
   "metadata": {},
   "outputs": [],
   "source": [
    "# #Plot trading simulation\n",
    "# # window_start = '2023-10-03 00:00:00'\n",
    "# # window_end = '2023-10-03 10:00:00'\n",
    "\n",
    "\n",
    "# window_start = '2024-04-10 00:00:00'\n",
    "# window_end = '2024-04-11 00:00:00'\n",
    "\n",
    "# # window_start = None\n",
    "# # window_end = None\n",
    "\n",
    "# #NOTE THAT THE TIMES ON THE X AXIS SHOW THE HOURS AND MINUTES\n",
    "\n",
    "\n",
    "# plot_trading_simulation(S1, S2, sym1,sym2,zscore_series, positions_series, \n",
    "#                         cum_pnl_series,win_indexs=win_indexs,loss_indexs=loss_indexs,\n",
    "#                         window_start=window_start, window_end=window_end)\n",
    "\n"
   ]
  },
  {
   "cell_type": "code",
   "execution_count": 181,
   "metadata": {},
   "outputs": [],
   "source": [
    "# plt.plot(spread_series.loc[window_start:window_end])\n",
    "# plt.title('Spread Over Time')\n",
    "# plt.legend()"
   ]
  },
  {
   "cell_type": "code",
   "execution_count": 182,
   "metadata": {},
   "outputs": [],
   "source": [
    "# #zip S1 and S2 together\n",
    "# S1_window = S1.loc[window_start:window_end]\n",
    "# S2_window = S2.loc[window_start:window_end]\n",
    "\n",
    "# #2023-10-23 22:43:00   -20.599535\n",
    "# #compute spread\n",
    "\n",
    "# rolling_mean_window = rolling_mean.loc[window_start:window_end]\n",
    "\n",
    "# rolling_std_window = rolling_std.loc[window_start:window_end]\n",
    "\n",
    "# spread_series_window = spread_series.loc[window_start:window_end]\n",
    "\n",
    "# alpha_series_window = alpha_series.loc[window_start:window_end]\n",
    "\n",
    "# z_score_window = zscore_series.loc[window_start:window_end]\n",
    "\n",
    "# beta_series_window = beta_series.loc[window_start:window_end]\n",
    "\n",
    "# #Merge dataframes together\n",
    "\n",
    "# merged_df = pd.concat([S1_window,S2_window,spread_series_window,rolling_mean_window,rolling_std_window,alpha_series_window,z_score_window,beta_series_window],axis=1)\n",
    "\n",
    "# merged_df.columns = ['S1','S2','Spread','Rolling Mean','Rolling Std','Alpha','Z Score','Beta']\n",
    "\n",
    "# merged_df"
   ]
  },
  {
   "cell_type": "code",
   "execution_count": 183,
   "metadata": {},
   "outputs": [],
   "source": [
    "# window_start = '2023-10-23 21:20:00'\n",
    "# window_end = '2023-10-23 22:50:00'\n",
    "\n",
    "# #Time of event: 2023-10-23 22:43:00\t\n",
    "\n",
    "# S1_window = S1[window_start:window_end]\n",
    "# S2_window = S2[window_start:window_end]\n",
    "\n",
    "# #Plot time series from window start to window end on different y axis and show data points\n",
    "\n",
    "\n",
    "\n",
    "# fig, ax1 = plt.subplots()\n",
    "\n",
    "# #Set size of the plot\n",
    "# fig.set_size_inches(12, 8)\n",
    "\n",
    "# color = 'tab:red'\n",
    "# ax1.set_xlabel('Time')\n",
    "# ax1.set_ylabel('S1', color=color)\n",
    "# ax1.plot(S1_window, color=color, marker='o')\n",
    "# ax1.tick_params(axis='y', labelcolor=color)\n",
    "\n",
    "# ax2 = ax1.twinx()\n",
    "# color = 'tab:blue'  \n",
    "# ax2.set_ylabel('S2', color=color)\n",
    "# ax2.plot(S2_window, color=color, marker='o')\n",
    "# ax2.tick_params(axis='y', labelcolor=color)\n",
    "\n",
    "# plt.title('Time series of S1 and S2 from window start to window end')\n",
    "\n",
    "\n",
    "\n",
    "\n",
    "\n",
    "\n",
    "# # plt.plot(S1_window)\n",
    "# # plt.plot(S2_window)\n",
    "# # plt.title('Time series of S1 and S2 from window start to window end')\n",
    "# # plt.show()"
   ]
  },
  {
   "cell_type": "code",
   "execution_count": 184,
   "metadata": {},
   "outputs": [],
   "source": [
    "# spre = 31971.76 - (-2.096653) - 1.151277 * 28349.60\n",
    "# spre"
   ]
  }
 ],
 "metadata": {
  "kernelspec": {
   "display_name": "main_conda_env",
   "language": "python",
   "name": "python3"
  },
  "language_info": {
   "codemirror_mode": {
    "name": "ipython",
    "version": 3
   },
   "file_extension": ".py",
   "mimetype": "text/x-python",
   "name": "python",
   "nbconvert_exporter": "python",
   "pygments_lexer": "ipython3",
   "version": "3.13.1"
  }
 },
 "nbformat": 4,
 "nbformat_minor": 2
}
