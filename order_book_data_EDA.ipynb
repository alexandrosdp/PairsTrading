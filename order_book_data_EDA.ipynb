{
 "cells": [
  {
   "cell_type": "code",
   "execution_count": 203,
   "metadata": {},
   "outputs": [],
   "source": [
    "import pandas as pd\n",
    "import numpy as np\n",
    "import matplotlib.pyplot as plt"
   ]
  },
  {
   "cell_type": "code",
   "execution_count": 204,
   "metadata": {},
   "outputs": [],
   "source": [
    "prices = pd.read_csv('order_book_data/merged_data/1min/eth_wbeth_combined_1m.csv', index_col=0, parse_dates=True)\n",
    "prices = prices[['eth_mid_price','wbeth_mid_price']]"
   ]
  },
  {
   "cell_type": "code",
   "execution_count": 205,
   "metadata": {},
   "outputs": [
    {
     "data": {
      "text/html": [
       "<div>\n",
       "<style scoped>\n",
       "    .dataframe tbody tr th:only-of-type {\n",
       "        vertical-align: middle;\n",
       "    }\n",
       "\n",
       "    .dataframe tbody tr th {\n",
       "        vertical-align: top;\n",
       "    }\n",
       "\n",
       "    .dataframe thead th {\n",
       "        text-align: right;\n",
       "    }\n",
       "</style>\n",
       "<table border=\"1\" class=\"dataframe\">\n",
       "  <thead>\n",
       "    <tr style=\"text-align: right;\">\n",
       "      <th></th>\n",
       "      <th>eth_mid_price</th>\n",
       "      <th>wbeth_mid_price</th>\n",
       "    </tr>\n",
       "    <tr>\n",
       "      <th>local_timestamp</th>\n",
       "      <th></th>\n",
       "      <th></th>\n",
       "    </tr>\n",
       "  </thead>\n",
       "  <tbody>\n",
       "    <tr>\n",
       "      <th>2024-06-01 00:00:00</th>\n",
       "      <td>3765.885</td>\n",
       "      <td>3916.525</td>\n",
       "    </tr>\n",
       "    <tr>\n",
       "      <th>2024-06-01 00:01:00</th>\n",
       "      <td>3763.005</td>\n",
       "      <td>3912.750</td>\n",
       "    </tr>\n",
       "    <tr>\n",
       "      <th>2024-06-01 00:02:00</th>\n",
       "      <td>3764.515</td>\n",
       "      <td>3915.350</td>\n",
       "    </tr>\n",
       "    <tr>\n",
       "      <th>2024-06-01 00:03:00</th>\n",
       "      <td>3765.815</td>\n",
       "      <td>3916.765</td>\n",
       "    </tr>\n",
       "    <tr>\n",
       "      <th>2024-06-01 00:04:00</th>\n",
       "      <td>3766.675</td>\n",
       "      <td>3918.100</td>\n",
       "    </tr>\n",
       "    <tr>\n",
       "      <th>...</th>\n",
       "      <td>...</td>\n",
       "      <td>...</td>\n",
       "    </tr>\n",
       "    <tr>\n",
       "      <th>2024-12-31 23:55:00</th>\n",
       "      <td>3341.735</td>\n",
       "      <td>3534.665</td>\n",
       "    </tr>\n",
       "    <tr>\n",
       "      <th>2024-12-31 23:56:00</th>\n",
       "      <td>3340.645</td>\n",
       "      <td>3533.665</td>\n",
       "    </tr>\n",
       "    <tr>\n",
       "      <th>2024-12-31 23:57:00</th>\n",
       "      <td>3339.345</td>\n",
       "      <td>3532.305</td>\n",
       "    </tr>\n",
       "    <tr>\n",
       "      <th>2024-12-31 23:58:00</th>\n",
       "      <td>3338.415</td>\n",
       "      <td>3531.890</td>\n",
       "    </tr>\n",
       "    <tr>\n",
       "      <th>2024-12-31 23:59:00</th>\n",
       "      <td>3337.785</td>\n",
       "      <td>3530.340</td>\n",
       "    </tr>\n",
       "  </tbody>\n",
       "</table>\n",
       "<p>308051 rows × 2 columns</p>\n",
       "</div>"
      ],
      "text/plain": [
       "                     eth_mid_price  wbeth_mid_price\n",
       "local_timestamp                                    \n",
       "2024-06-01 00:00:00       3765.885         3916.525\n",
       "2024-06-01 00:01:00       3763.005         3912.750\n",
       "2024-06-01 00:02:00       3764.515         3915.350\n",
       "2024-06-01 00:03:00       3765.815         3916.765\n",
       "2024-06-01 00:04:00       3766.675         3918.100\n",
       "...                            ...              ...\n",
       "2024-12-31 23:55:00       3341.735         3534.665\n",
       "2024-12-31 23:56:00       3340.645         3533.665\n",
       "2024-12-31 23:57:00       3339.345         3532.305\n",
       "2024-12-31 23:58:00       3338.415         3531.890\n",
       "2024-12-31 23:59:00       3337.785         3530.340\n",
       "\n",
       "[308051 rows x 2 columns]"
      ]
     },
     "execution_count": 205,
     "metadata": {},
     "output_type": "execute_result"
    }
   ],
   "source": [
    "prices"
   ]
  }
 ],
 "metadata": {
  "language_info": {
   "name": "python"
  }
 },
 "nbformat": 4,
 "nbformat_minor": 2
}
